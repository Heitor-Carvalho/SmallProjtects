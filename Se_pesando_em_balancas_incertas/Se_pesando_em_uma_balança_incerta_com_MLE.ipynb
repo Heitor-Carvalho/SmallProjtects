{
 "cells": [
  {
   "cell_type": "markdown",
   "metadata": {},
   "source": [
    "### Sumário\n",
    "\n",
    "- Estimador de máxima verssimilhança\n",
    "- Definindo a balança incerta\n",
    "- Extraindo informação em meio a incerteza \n",
    "- Maximizando a função de verossimilhança numericamente"
   ]
  },
  {
   "cell_type": "markdown",
   "metadata": {},
   "source": [
    "### Estimador de máxima verssimilhança"
   ]
  },
  {
   "cell_type": "code",
   "execution_count": 2,
   "metadata": {},
   "outputs": [],
   "source": [
    "import numpy as np\n",
    "import matplotlib.pyplot as plt"
   ]
  },
  {
   "cell_type": "markdown",
   "metadata": {},
   "source": [
    "Hoje vamos discutir o estimador de máxima verossimilhança - Maximum likelihood estimation (MLE) e como este pode ser aplicado para extrair informações sobre processos estocásticos. Mais especificamente, vamos usá-lo para estimar parâmetros de um processo com distribuição gaussiana e interpretar o que esta ocorrendo neste exemplo.\n",
    "\n",
    "Primeiro vamos apresentar o estimador MLE.\n",
    "\n",
    "O MLE consiste em um método de estimação de parâmetros de uma densidade de probabilidade através da maximização da função verossimilhança. Seu objetivo é fazer inferências sobre o processo, de modo a encontrar o conjunto de parâmetros da pdf que mais se assemelha aos dados amostrados.\n",
    "\n",
    "Para isso, vamos retomar o conceito função verossimilhança dada pela função:\n",
    "\n",
    "$L(\\overline{x}; \\overline{\\theta}) = f(\\overline{x}/\\overline{\\theta})$, ou seja, a probabilidade dos dados ocorridos considerando o conjunto de parâmetros $\\theta$.\n",
    "\n",
    "Neste caso, a pdf das variáveis aleátorias é definida por uma família de pdf, usando o MLE vamos encontrar o conjunto de parâmetros $\\theta$ que maximiza a função $L(\\overline{x}; \\overline{\\theta})$."
   ]
  },
  {
   "cell_type": "markdown",
   "metadata": {},
   "source": [
    "### Definindo uma balança incerta"
   ]
  },
  {
   "cell_type": "markdown",
   "metadata": {},
   "source": [
    "Para o exemplo que iremos analisar, vamos supor que temos um balança que retorna o peso da uma pessoa de forma incerta, isto é, o resultado lido na balança pode variar de forma aleátória, mas ainda mantendo uma correlação com o valor real do peso da pessoa. \n",
    "\n",
    "Para simplificar a análise, vamos supor que esse fenômeno aleatório possa ser modelado com um variável aleátoria X com pdf gaussian com média $\\mu$ e desvio padrão $\\sigma$. Vamos ainda supor que a média $\\mu$ é igual ao peso real da pessoa e que a balança \"quase\" nunca errará o valor por mais de 0.5kg."
   ]
  },
  {
   "cell_type": "markdown",
   "metadata": {},
   "source": [
    "Note que para formular o problema matemáticamente, precisamos formalizar o termo \"quase\" usando na expressão acima, para isso vamos considerar que 95% das vezes o valor mostrado pela balança vai estar entre o peso real - 0.5kg e o peso real + 0.5kg.\n",
    "\n",
    "Sabemos que 95% das amostras de uma gaussiana ocorrem entre os valores $\\mu + 1.96\\sigma$ e $\\mu - 1.96\\sigma$.\n",
    "\n",
    "Assim basta ajustar o parâmetro $\\sigma$ para que $1.96\\sigma$  seja igual a 0.5kg. Portanto, temos $\\sigma$ = 0.5/1.96 = 0.255.\n",
    "\n",
    "Por fim, vamos supor que um pessoa com 70kg se pese duas vezes neste balança."
   ]
  },
  {
   "cell_type": "code",
   "execution_count": 3,
   "metadata": {},
   "outputs": [],
   "source": [
    "weight_real = 70\n",
    "weight_sigma = 0.255"
   ]
  },
  {
   "cell_type": "code",
   "execution_count": 4,
   "metadata": {},
   "outputs": [],
   "source": [
    "def gaussian(x, mu, std):\n",
    "    return np.exp(-0.5*((x-mu)/std)**2)/(std*np.sqrt(2*np.pi))"
   ]
  },
  {
   "cell_type": "markdown",
   "metadata": {},
   "source": [
    "Neste caso, o peso será uma variável aleatória com a seguinte pdf:"
   ]
  },
  {
   "cell_type": "code",
   "execution_count": 5,
   "metadata": {},
   "outputs": [],
   "source": [
    "x = np.linspace(69, 71, 1000)\n",
    "gauss = gaussian(x, weight_real, weight_sigma)"
   ]
  },
  {
   "cell_type": "code",
   "execution_count": 8,
   "metadata": {
    "scrolled": false
   },
   "outputs": [
    {
     "data": {
      "image/png": "[encoded data removed]",
      "text/plain": [
       "<Figure size 432x288 with 1 Axes>"
      ]
     },
     "metadata": {
      "needs_background": "light"
     },
     "output_type": "display_data"
    }
   ],
   "source": [
    "plt.plot(x, gauss)\n",
    "plt.ylabel(\"pdf\")\n",
    "plt.xlabel(\"Peso [kg]\")\n",
    "plt.grid()"
   ]
  },
  {
   "cell_type": "code",
   "execution_count": 24,
   "metadata": {},
   "outputs": [],
   "source": [
    "from scipy.integrate import quad"
   ]
  },
  {
   "cell_type": "markdown",
   "metadata": {},
   "source": [
    "Vamos conferir se nosso projeto esta correto, calculando a área sobre a pdf gaussian entre os valores de 69.5kg e 70.5kg e verificar se temos uma probabilidade de 95%. Para isso faremos a integral da pdf nessa faixa de valores usando a função quad do numpy:"
   ]
  },
  {
   "cell_type": "code",
   "execution_count": 25,
   "metadata": {},
   "outputs": [
    {
     "data": {
      "text/plain": [
       "0.9500958113381357"
      ]
     },
     "execution_count": 25,
     "metadata": {},
     "output_type": "execute_result"
    }
   ],
   "source": [
    "quad(gaussian, 69.5, 70.5, args=(weight_real, weight_sigma))[0]"
   ]
  },
  {
   "cell_type": "markdown",
   "metadata": {},
   "source": [
    "Por fim, vamos simular duas pesagens de uma pessoa de 70kg neste balança, temos:"
   ]
  },
  {
   "cell_type": "code",
   "execution_count": 6,
   "metadata": {},
   "outputs": [
    {
     "data": {
      "text/plain": [
       "array([70.14408126, 69.99354818])"
      ]
     },
     "execution_count": 6,
     "metadata": {},
     "output_type": "execute_result"
    }
   ],
   "source": [
    "weight_samples = np.random.normal(weight_real, weight_sigma, 2)\n",
    "weight_samples"
   ]
  },
  {
   "cell_type": "markdown",
   "metadata": {},
   "source": [
    "### Extraindo informação em meio a incerteza "
   ]
  },
  {
   "cell_type": "markdown",
   "metadata": {},
   "source": [
    "Segue então algumas perguntas, o que fazer com os dois resultados obtidos?, devemos escolher somente um deles?, combinar os dois?, Se sim, como?.\n",
    "\n",
    "Embora nosso objetivo seja estimar um número mais próximo possível ao peso real, a melhor ação a se tomar ainda não é clara. Para isso, vamos formalizar a noção de mais próximo possível do peso real.\n",
    "\n",
    "Dadas as premissas assumidas de que a leitura se comporta como o processo de amostragem de um variável aleatória gaussian cuja média é igual ao peso real, podemos dizer que estimar o valor mais próximo possível corresponde a estimar a média $\\mu$ da pdf gaussia.\n",
    "\n",
    "Ainda sim, não é claro como fazer isso, vamos então adicionar mais um objetivo a nossa missão, vamos procurar pelo valor de $\\mu$ que máximiza a probabilidade de termos lidos os valores apresentados na balança.\n",
    "\n",
    "Essa probabilidade, é dada pela função de verossimilhança:"
   ]
  },
  {
   "cell_type": "markdown",
   "metadata": {},
   "source": [
    "$L(x_1, x_2; \\mu, \\sigma) = \\prod_{i=1}^{2}f(x_i/\\mu,\\sigma) = = \\frac{1}{\\sigma\\sqrt{2\\pi}}e^{-\\frac{1}{2}(\\frac{x_1 - \\mu}{\\sigma})^2}\\frac{1}{\\sigma\\sqrt{2\\pi}}e^{-\\frac{1}{2}(\\frac{x_2 - \\mu}{\\sigma})^2} = \\frac{1}{2\\pi\\sigma^2}e^{-\\frac{1}{2}(\\frac{x_1-\\mu}{\\sigma})^2-\\frac{1}{2}(\\frac{x_2 - \\mu}{\\sigma})^2}$"
   ]
  },
  {
   "cell_type": "markdown",
   "metadata": {},
   "source": [
    "Onde $x_1$ e $x_2$ são os valores lidos $\\sigma$ = 0.255 e $\\mu$ é o parâmetro que queremos encontrar."
   ]
  },
  {
   "cell_type": "markdown",
   "metadata": {},
   "source": [
    "Vamos então ver qual o valor de $\\mu$ que maximiza a função:\n",
    "\n",
    "$\\mu = \\underset{\\mu}{\\operatorname{argmax}}L(x_1, x_2; \\mu, \\sigma) = \\underset{\\mu}{\\operatorname{argmax}}log(L(x_1, x_2; \\mu, \\sigma_1, \\sigma_2)) = \\underset{\\mu}{\\operatorname{argmax}}-\\frac{1}{2}(\\frac{x_1-\\mu}{\\sigma})^2 -\\frac{1}{2}(\\frac{x_2-\\mu}{\\sigma})^2= -(x_1-\\mu)^2-(x_2-\\mu)^2$\n",
    "\n",
    "Neste caso, para maximizar a função basta derivar em relação a $\\mu$ e igualar a 0 temos:\n",
    "\n",
    "$\\frac{\\partial{L(x_1, x_2; \\mu, \\sigma)}}{\\partial{\\mu}} = 2(x_1-\\mu)+2(x_2-\\mu)$ = 0\n",
    "\n",
    "Com isso temos:\n",
    "\n",
    "$\\mu_{max} = \\frac{x_1 + x_2}{2}$\n",
    "\n",
    "Ou seja, segundo o critério MLE a estimativa do peso real é dada pela média dos dois valores lidos, pois este é o valor que mais fará com que o nosso modelo estatístico se aproxime aos dados observados."
   ]
  },
  {
   "cell_type": "markdown",
   "metadata": {},
   "source": [
    "### Maximizando a função de verossimilhança numericamente"
   ]
  },
  {
   "cell_type": "markdown",
   "metadata": {},
   "source": [
    "Vamos verificar isso numericamente de três maneiras, a primeira é plotando a função de verossimilhança para uma faixa de valores de $\\mu$ e encontrando o valor máximo."
   ]
  },
  {
   "cell_type": "code",
   "execution_count": 13,
   "metadata": {},
   "outputs": [],
   "source": [
    "mu_candidate = np.linspace(69.5, 70.5, 1000)"
   ]
  },
  {
   "cell_type": "code",
   "execution_count": 11,
   "metadata": {},
   "outputs": [],
   "source": [
    "pdf_mu_sample1 = gaussian(weight_samples[0], mu_candidate, weight_sigma)\n",
    "pdf_mu_sample2 = gaussian(weight_samples[1], mu_candidate, weight_sigma)\n",
    "pdf_mu_sample = pdf_mu_sample1*pdf_mu_sample2"
   ]
  },
  {
   "cell_type": "code",
   "execution_count": 14,
   "metadata": {},
   "outputs": [
    {
     "data": {
      "image/png": "[encoded data removed]",
      "text/plain": [
       "<Figure size 432x288 with 1 Axes>"
      ]
     },
     "metadata": {
      "needs_background": "light"
     },
     "output_type": "display_data"
    }
   ],
   "source": [
    "plt.plot(mu_candidate, pdf_mu_sample)\n",
    "plt.title(\"Função de verossimilhança variando $\\mu$\")\n",
    "plt.ylabel(\"L\")\n",
    "plt.xlabel(\"$\\mu$\")\n",
    "plt.grid()"
   ]
  },
  {
   "cell_type": "code",
   "execution_count": 15,
   "metadata": {},
   "outputs": [
    {
     "data": {
      "text/plain": [
       "70.22472472472472"
      ]
     },
     "execution_count": 15,
     "metadata": {},
     "output_type": "execute_result"
    }
   ],
   "source": [
    "mu_candidate[np.argmax(pdf_mu_sample)]"
   ]
  },
  {
   "cell_type": "markdown",
   "metadata": {},
   "source": [
    "A segunda é maximizando a função através de um algorítimo de otimização."
   ]
  },
  {
   "cell_type": "code",
   "execution_count": 16,
   "metadata": {},
   "outputs": [],
   "source": [
    "def two_gaussian(mu, x1, x2, std):\n",
    "    return -1*np.exp(-0.5*((x1-mu)/std)**2)/(std*np.sqrt(2*np.pi))*\\\n",
    "           np.exp(-0.5*((x2-mu)/std)**2)/(std*np.sqrt(2*np.pi))"
   ]
  },
  {
   "cell_type": "code",
   "execution_count": 17,
   "metadata": {},
   "outputs": [],
   "source": [
    "from scipy.optimize import minimize"
   ]
  },
  {
   "cell_type": "code",
   "execution_count": 18,
   "metadata": {
    "scrolled": true
   },
   "outputs": [
    {
     "data": {
      "text/plain": [
       "      fun: -1.7220259046358175\n",
       " hess_inv: array([[0.0188804]])\n",
       "      jac: array([2.98023224e-08])\n",
       "  message: 'Optimization terminated successfully.'\n",
       "     nfev: 24\n",
       "      nit: 6\n",
       "     njev: 8\n",
       "   status: 0\n",
       "  success: True\n",
       "        x: array([70.22495761])"
      ]
     },
     "execution_count": 18,
     "metadata": {},
     "output_type": "execute_result"
    }
   ],
   "source": [
    "minimize(two_gaussian, 70, args=(weight_samples[0], weight_samples[1], weight_sigma))\n"
   ]
  },
  {
   "cell_type": "markdown",
   "metadata": {},
   "source": [
    "e a terceia é usando a fórmula encontrada ao se resolver o probelma de otimização analiticamente."
   ]
  },
  {
   "cell_type": "code",
   "execution_count": 19,
   "metadata": {},
   "outputs": [
    {
     "data": {
      "text/plain": [
       "70.2249576180728"
      ]
     },
     "execution_count": 19,
     "metadata": {},
     "output_type": "execute_result"
    }
   ],
   "source": [
    "np.mean(weight_samples)"
   ]
  },
  {
   "cell_type": "markdown",
   "metadata": {},
   "source": [
    "### Considerações quanto ao MLE"
   ]
  },
  {
   "cell_type": "markdown",
   "metadata": {},
   "source": [
    "Comparando os valores obtidos numericamente, vemos que o resultado obtido se aproxima do valor de real de 70 kg. De fato, a estimativa do peso melhor será quanto maior o número de pesagens realizadas, pois teremos mais dados para realizar a estimativa de $\\mu$. \n",
    "\n",
    "É interessante ver como o critério MLE nos permite combinar dados ruidosos e extrair uma informação mais coerentes com os dados observados até então. Porém, é importente atentar que o MLE só \"enxerga\" os dados usados e ignora qualquer outro contexto, o que pode em algum casos péssimas estimativas em alguns casos. "
   ]
  },
  {
   "cell_type": "markdown",
   "metadata": {},
   "source": [
    "### Conclusão"
   ]
  },
  {
   "cell_type": "markdown",
   "metadata": {},
   "source": [
    "Neste tópico discutimos:\n",
    "\n",
    "- O estimador de verossimilhança.\n",
    "- Um exemplo de uma balança aleatória e como ajustar seus parâmetros satisfazendo os requisitos de seu comportamento.\n",
    "- Como encontrar analiticamente o estimador MLE\n",
    "- Como encontrar númericamente o estimador MLE\n",
    "- Consideração e cuidados sobre o resultado obitdo"
   ]
  }
 ],
 "metadata": {
  "kernelspec": {
   "display_name": "Python 3",
   "language": "python",
   "name": "python3"
  },
  "language_info": {
   "codemirror_mode": {
    "name": "ipython",
    "version": 3
   },
   "file_extension": ".py",
   "mimetype": "text/x-python",
   "name": "python",
   "nbconvert_exporter": "python",
   "pygments_lexer": "ipython3",
   "version": "3.7.6"
  }
 },
 "nbformat": 4,
 "nbformat_minor": 4
}
