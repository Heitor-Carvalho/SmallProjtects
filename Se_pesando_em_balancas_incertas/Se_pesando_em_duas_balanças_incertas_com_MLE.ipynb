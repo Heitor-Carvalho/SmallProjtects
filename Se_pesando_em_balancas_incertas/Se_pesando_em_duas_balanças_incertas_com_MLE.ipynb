{
 "cells": [
  {
   "cell_type": "markdown",
   "metadata": {},
   "source": [
    "### Sumário\n",
    "\n",
    "- Definindo o problema\n",
    "- Combinando duas informações ruidosas\n",
    "- Maximizando a função de verossimilhança numericamente\n",
    "- Conclusão"
   ]
  },
  {
   "cell_type": "markdown",
   "metadata": {},
   "source": [
    "### Definindo o problema"
   ]
  },
  {
   "cell_type": "markdown",
   "metadata": {},
   "source": [
    "Nesta tópico vamos expandir o exemplo apresentado no tópico Se pesando em uma balança incerte com MLE adicionando mais uma variável ao problema, no caso, mais uma balança que dessa vez faz uma leitura pior que a primeira. \n",
    "\n",
    "Para começar, assim como no tópico citado, vamos definir as duas balancas. A primeira com 95% de chance não erra sua medida com mais de 0.5 kg do peso real. Já a segunda um pouco pior que a primeira, com 95 de chance não erra mais que 1 kg.\n",
    "\n",
    "Vamos ver a pdf das duas balancas, chamadas aque de balança A e balança B."
   ]
  },
  {
   "cell_type": "code",
   "execution_count": 112,
   "metadata": {},
   "outputs": [],
   "source": [
    "import numpy as np\n",
    "import matplotlib.pyplot as plt"
   ]
  },
  {
   "cell_type": "code",
   "execution_count": 113,
   "metadata": {},
   "outputs": [],
   "source": [
    "weight_real = 70\n",
    "weight_sigma_a = 0.5/1.96\n",
    "weight_sigma_b = 1/1.96"
   ]
  },
  {
   "cell_type": "code",
   "execution_count": 114,
   "metadata": {},
   "outputs": [],
   "source": [
    "def gaussian(x, mu, std):\n",
    "    return np.exp(-0.5*((x-mu)/std)**2)/(std*np.sqrt(2*np.pi))"
   ]
  },
  {
   "cell_type": "code",
   "execution_count": 115,
   "metadata": {},
   "outputs": [],
   "source": [
    "x = np.linspace(68, 72, 1000)\n",
    "gauss_a = gaussian(x, weight_real, weight_sigma_a)\n",
    "gauss_b = gaussian(x, weight_real, weight_sigma_b)"
   ]
  },
  {
   "cell_type": "code",
   "execution_count": 116,
   "metadata": {},
   "outputs": [
    {
     "data": {
      "text/plain": [
       "[array([70.2151654]), array([70.1142273])]"
      ]
     },
     "execution_count": 116,
     "metadata": {},
     "output_type": "execute_result"
    }
   ],
   "source": [
    "weight_samples = [np.random.normal(weight_real, weight_sigma_a, 1), \\\n",
    "                  np.random.normal(weight_real, weight_sigma_b, 1)]\n",
    "weight_samples"
   ]
  },
  {
   "cell_type": "code",
   "execution_count": 117,
   "metadata": {},
   "outputs": [
    {
     "data": {
      "image/png": "[encoded data removed]",
      "text/plain": [
       "<Figure size 1152x288 with 2 Axes>"
      ]
     },
     "metadata": {
      "needs_background": "light"
     },
     "output_type": "display_data"
    }
   ],
   "source": [
    "fig, axs = plt.subplots(1, 2, figsize=(16,4))\n",
    "axs[0].plot(x, gauss_a)\n",
    "axs[0].set_title(\"Balança A\")\n",
    "axs[0].set_ylabel(\"pdf\")\n",
    "axs[0].set_xlabel(\"Peso [kg]\")\n",
    "axs[0].grid()\n",
    "axs[1].plot(x, gauss_b)\n",
    "axs[1].set_title(\"Balança B\")\n",
    "axs[1].set_ylabel(\"pdf\")\n",
    "axs[1].set_xlabel(\"Peso [kg]\")\n",
    "axs[1].grid()"
   ]
  },
  {
   "cell_type": "markdown",
   "metadata": {},
   "source": [
    "Vamos verificar a faixa de peso correspondente a 95% de probabilidade"
   ]
  },
  {
   "cell_type": "code",
   "execution_count": 118,
   "metadata": {},
   "outputs": [],
   "source": [
    "from scipy.integrate import quad"
   ]
  },
  {
   "cell_type": "code",
   "execution_count": 119,
   "metadata": {},
   "outputs": [
    {
     "data": {
      "text/plain": [
       "0.950004209703558"
      ]
     },
     "execution_count": 119,
     "metadata": {},
     "output_type": "execute_result"
    }
   ],
   "source": [
    "quad(gaussian, 69.5, 70.5, args=(weight_real, weight_sigma_a))[0]"
   ]
  },
  {
   "cell_type": "code",
   "execution_count": 120,
   "metadata": {},
   "outputs": [
    {
     "data": {
      "text/plain": [
       "0.9500042097035599"
      ]
     },
     "execution_count": 120,
     "metadata": {},
     "output_type": "execute_result"
    }
   ],
   "source": [
    "quad(gaussian, 69, 71, args=(weight_real, weight_sigma_b))[0]"
   ]
  },
  {
   "cell_type": "markdown",
   "metadata": {},
   "source": [
    "### Combinando duas informações ruidosas"
   ]
  },
  {
   "cell_type": "markdown",
   "metadata": {},
   "source": [
    "Segue então algumas perguntas, o que fazer com os dois resultados obtidos?, Devemos escolher somente um deles?, Combinar os dois?, Se sim, como?.\n",
    "\n",
    "Embora nosso objetivo seja estimar um número mais próximo possível ao peso real, a melhor ação a se tomar ainda não é clara. Para isso, vamos formalizar a noção de mais próximo possível do peso real.\n",
    "\n",
    "Dadas as premissas assumidas de que a leitura se comporta como o processo de amostragem de um variável aleatória gaussiana cuja média é igual ao peso real, podemos dizer que estimar o valor mais próximo possível corresponde a estimar a média $\\mu$ da pdf gaussia.\n",
    "\n",
    "Ainda sim, não é claro como fazer isso, vamos então adicionar mais um objetivo a nossa missão, vamos procurar pelo valor de $\\mu$ que máximiza a probabilidade de termos lidos os valores apresentados na balança.\n",
    "\n",
    "Essa probabilidade, é dada pela função de verossimilhança:"
   ]
  },
  {
   "cell_type": "markdown",
   "metadata": {},
   "source": [
    "$L(x_1, x_2; \\mu, \\sigma_1, \\sigma_2) = \\prod_{i=1}^{2}f(x_i/\\mu,\\sigma_1,\\sigma_2) = \\frac{1}{\\sigma_1\\sqrt{2\\pi}}e^{-\\frac{1}{2}(\\frac{x_1 - \\mu}{\\sigma_1})^2}\\frac{1}{\\sigma_2\\sqrt{2\\pi}}e^{-\\frac{1}{2}(\\frac{x_2 - \\mu}{\\sigma_2})^2}$"
   ]
  },
  {
   "cell_type": "markdown",
   "metadata": {},
   "source": [
    "Onde $x_1$ e $x_2$ são os valores lidos pelas balanças A e B, $\\sigma_1$ = 0.255, $\\sigma_2 = 0.510$ e $\\mu$ é o parâmetro que queremos encontrar."
   ]
  },
  {
   "cell_type": "markdown",
   "metadata": {},
   "source": [
    "Vamos então ver qual o valor de $\\mu$ que maximiza a função:\n",
    "\n",
    "$\\mu = \\underset{\\mu}{\\operatorname{argmax}}L(x_1, x_2; \\mu, \\sigma) = \\underset{\\mu}{\\operatorname{argmax}}logL(x_1, x_2; \\mu, \\sigma) = \\underset{\\mu}{\\operatorname{argmax}}-\\frac{1}{2}(\\frac{x_1-\\mu}{\\sigma_1})^2 -\\frac{1}{2}(\\frac{x_2-\\mu}{\\sigma_1})^2= -\\frac{(x_1-\\mu)^2}{\\sigma_1^2}-\\frac{(x_2-\\mu)^2}{\\sigma_2^2}$\n",
    "\n",
    "Neste caso, para maximizar a função basta derivar em relação a $\\mu$ e igualar a 0 temos:\n",
    "\n",
    "$\\frac{\\partial{L(x_1, x_2; \\mu, \\sigma)}}{\\partial{\\mu}} = 2\\frac{(x_1-\\mu)}{\\sigma_1^2}+2\\frac{(x_2-\\mu)}{\\sigma_2^2} = \\frac{\\sigma_2^2(x_1-\\mu) + \\sigma_1^2(x_2-\\mu)}{\\sigma_1^2\\sigma_2^2}$ = 0\n",
    "\n",
    "Com isso temos:\n",
    "\n",
    "$\\mu_{max} = \\frac{x_1\\sigma_2^2 + x_2\\sigma_1^2}{\\sigma_1^2+\\sigma_2^2}$\n",
    "\n",
    "Ou seja, segundo o critério MLE a estimativa do peso real é dada pela média ponderada dos valores medidos, sendo a ponderação data pelas variâncias das balanças. Um detalhe importante na solução final é que a balança mais imprecisa (balança B) tem um peso menor na estimativa final, o que é esperado, já que parece bastante sensato confiar menos na segunda balança."
   ]
  },
  {
   "cell_type": "markdown",
   "metadata": {},
   "source": [
    "### Maximizando a função de verossimilhança numericamente"
   ]
  },
  {
   "cell_type": "markdown",
   "metadata": {},
   "source": [
    "Vamos verificar isso numericamente de três maneiras, a primeira é plotando a função de verossimilhança para uma faixa de valores de $\\mu$ e encontrando o valor máximo."
   ]
  },
  {
   "cell_type": "code",
   "execution_count": 27,
   "metadata": {},
   "outputs": [],
   "source": [
    "mu_candidate = np.linspace(69.5, 70.5, 1000)"
   ]
  },
  {
   "cell_type": "code",
   "execution_count": 28,
   "metadata": {},
   "outputs": [],
   "source": [
    "pdf_mu_sample1 = gaussian(weight_samples[0], mu_candidate, weight_sigma_a)\n",
    "pdf_mu_sample2 = gaussian(weight_samples[1], mu_candidate, weight_sigma_b)\n",
    "pdf_mu_sample = pdf_mu_sample1*pdf_mu_sample2"
   ]
  },
  {
   "cell_type": "code",
   "execution_count": 29,
   "metadata": {},
   "outputs": [
    {
     "data": {
      "image/png": "[encoded data removed]",
      "text/plain": [
       "<Figure size 432x288 with 1 Axes>"
      ]
     },
     "metadata": {
      "needs_background": "light"
     },
     "output_type": "display_data"
    }
   ],
   "source": [
    "plt.plot(mu_candidate, pdf_mu_sample)\n",
    "plt.title(\"Função de verossimilhança variando $\\mu$\")\n",
    "plt.ylabel(\"L\")\n",
    "plt.xlabel(\"$\\mu$\")\n",
    "plt.grid()"
   ]
  },
  {
   "cell_type": "code",
   "execution_count": 30,
   "metadata": {},
   "outputs": [
    {
     "data": {
      "text/plain": [
       "70.16866866866867"
      ]
     },
     "execution_count": 30,
     "metadata": {},
     "output_type": "execute_result"
    }
   ],
   "source": [
    "mu_candidate[np.argmax(pdf_mu_sample)]"
   ]
  },
  {
   "cell_type": "markdown",
   "metadata": {},
   "source": [
    "A segunda é maximizando a função através de um algorítimo de otimização."
   ]
  },
  {
   "cell_type": "code",
   "execution_count": 85,
   "metadata": {},
   "outputs": [
    {
     "data": {
      "text/plain": [
       "      fun: -1.1790905434388415\n",
       " hess_inv: array([[0.04418884]])\n",
       "      jac: array([-2.07126141e-06])\n",
       "  message: 'Optimization terminated successfully.'\n",
       "     nfev: 18\n",
       "      nit: 4\n",
       "     njev: 6\n",
       "   status: 0\n",
       "  success: True\n",
       "        x: array([70.1682459])"
      ]
     },
     "execution_count": 85,
     "metadata": {},
     "output_type": "execute_result"
    }
   ],
   "source": [
    "def two_gaussian(mu, x1, x2, std_a, std_b):\n",
    "    return -1*np.exp(-0.5*((x1-mu)/std_a)**2)/(std_a*np.sqrt(2*np.pi))*\\\n",
    "           np.exp(-0.5*((x2-mu)/std_b)**2)/(std_b*np.sqrt(2*np.pi))\n",
    "\n",
    "from scipy.optimize import minimize\n",
    "\n",
    "minimize(two_gaussian, 70, args=(weight_samples[0], weight_samples[1], weight_sigma_a, weight_sigma_b))"
   ]
  },
  {
   "cell_type": "code",
   "execution_count": 110,
   "metadata": {},
   "outputs": [],
   "source": [
    "weight_sigma = [weight_sigma_b**2, weight_sigma_a**2]\n",
    "summ = sum(weight_sigma)\n",
    "weight_sigma[0] = weight_sigma[0]/summ\n",
    "weight_sigma[1] = weight_sigma[1]/summ"
   ]
  },
  {
   "cell_type": "code",
   "execution_count": 111,
   "metadata": {},
   "outputs": [
    {
     "data": {
      "text/plain": [
       "70.16824600275928"
      ]
     },
     "execution_count": 111,
     "metadata": {},
     "output_type": "execute_result"
    }
   ],
   "source": [
    "np.average(np.hstack(weight_samples), weights=weight_sigma)"
   ]
  },
  {
   "cell_type": "markdown",
   "metadata": {},
   "source": [
    "### Conclusão"
   ]
  },
  {
   "cell_type": "markdown",
   "metadata": {},
   "source": [
    "Neste tópico discutimos:\n",
    "\n",
    "- O estimador de verossimilhança.\n",
    "- Um exemplo com duas balanças com diferentes níveis de incerteza\n",
    "- Como encontrar analiticamente o estimador MLE\n",
    "- Como encontrar númericamente o estimador MLE"
   ]
  }
 ],
 "metadata": {
  "kernelspec": {
   "display_name": "Python 3",
   "language": "python",
   "name": "python3"
  },
  "language_info": {
   "codemirror_mode": {
    "name": "ipython",
    "version": 3
   },
   "file_extension": ".py",
   "mimetype": "text/x-python",
   "name": "python",
   "nbconvert_exporter": "python",
   "pygments_lexer": "ipython3",
   "version": "3.7.6"
  }
 },
 "nbformat": 4,
 "nbformat_minor": 4
}
