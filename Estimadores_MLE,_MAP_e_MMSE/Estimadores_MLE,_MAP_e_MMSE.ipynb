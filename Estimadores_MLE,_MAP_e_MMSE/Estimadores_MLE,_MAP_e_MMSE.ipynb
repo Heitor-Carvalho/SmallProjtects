{
 "cells": [
  {
   "cell_type": "markdown",
   "metadata": {},
   "source": [
    "### Sumário\n",
    "\n",
    "- Introdução\n",
    "- Jogando moedas\n",
    "- Estimador de máxima verossimilhança (MLE)\n",
    "- Probabilidade a priori\n",
    "- Estimador máximo a posterior (MAP)\n",
    "- Estimador de mínimo erro quadrático médio (MMSE)\n",
    "- Probabilidade a posteriori\n",
    "- Conclusão"
   ]
  },
  {
   "cell_type": "code",
   "execution_count": 1,
   "metadata": {},
   "outputs": [],
   "source": [
    "import numpy as np\n",
    "import matplotlib.pyplot as plt\n",
    "import math\n",
    "from scipy import stats"
   ]
  },
  {
   "cell_type": "markdown",
   "metadata": {},
   "source": [
    "### Introdução"
   ]
  },
  {
   "cell_type": "markdown",
   "metadata": {},
   "source": [
    "Neste tópico vamos analisar como diferentes estimadores podem gerar diferentes estimativas a partir de um mesmo conjunto de dados, iremos analisar quais cuidados devemos ter nas premissas assumidas por cada estimador e por fim interpretaremos os resultados e tentaramos apresentar um breve guia de cuidados a tomar em cada caso.\n",
    "\n",
    "Para que a discussão se torne o mais didática possível vamos ilustrar os diferentes estimadores aqui analisados através um exemplo simples, o jogar de uma moeda."
   ]
  },
  {
   "cell_type": "markdown",
   "metadata": {},
   "source": [
    "### Jogando moedas"
   ]
  },
  {
   "cell_type": "markdown",
   "metadata": {},
   "source": [
    "Vamos supor inicialmente que a moeda será jogada N vezes e iremos observar a sequência de resultados, iremos supor que a probabilidade do lançamento resultar em cara não ira mudar de um lançamente para outro. \n",
    "\n",
    "\n",
    "Com base apenas nos dados vamos tentar estimar a probabilidade da moeda resultar em cara, a qual chamaremos de $\\theta$."
   ]
  },
  {
   "cell_type": "markdown",
   "metadata": {},
   "source": [
    "Para começar vamos supor que obtivemos a seguinte sequência de resultados $\\{H, H, H, H, T\\}$, no qual $H$ é representado por 1 e $T$ representado 0."
   ]
  },
  {
   "cell_type": "code",
   "execution_count": 2,
   "metadata": {},
   "outputs": [],
   "source": [
    "toss_results = np.array([1, 1, 1, 1, 0])"
   ]
  },
  {
   "cell_type": "markdown",
   "metadata": {},
   "source": [
    "Para comecar a discussão vamos responder a seguinte pergunta, para uma moeda justa com $\\theta$ = 50%, qual probabilidade de obter 4 caras e 1 coroa em 5 lançamentos. Como esse processo segue uma distruição binomial, podemos calcular:"
   ]
  },
  {
   "cell_type": "code",
   "execution_count": 3,
   "metadata": {},
   "outputs": [],
   "source": [
    "x = np.arange(0,6)\n",
    "prob = [stats.binom.pmf(num, len(toss_results), 0.5) for num in x]"
   ]
  },
  {
   "cell_type": "code",
   "execution_count": 4,
   "metadata": {},
   "outputs": [
    {
     "data": {
      "image/png": "[encoded data removed]",
      "text/plain": [
       "<Figure size 432x288 with 1 Axes>"
      ]
     },
     "metadata": {
      "needs_background": "light"
     },
     "output_type": "display_data"
    }
   ],
   "source": [
    "plt.bar(x, height=prob)\n",
    "plt.ylabel('Probabilidade')\n",
    "plt.xlabel('Número de caras')\n",
    "plt.grid()"
   ]
  },
  {
   "cell_type": "markdown",
   "metadata": {},
   "source": [
    "Podemos ver que a probabilidade de 4 caras acontecer não é tão baixa quando se porderia imaginar já que temos 15% de change de obter essa combinação mesmo com um moeda justa. Mais isso é o suficente para determinar que é moeda é justa? Que outras análises podemos fazer? A seguir vamos apresentar 3 diferentes estimadores para o valor de $\\theta$."
   ]
  },
  {
   "cell_type": "markdown",
   "metadata": {},
   "source": [
    "### Estimador de máxima verossimilhança (MLE)"
   ]
  },
  {
   "cell_type": "markdown",
   "metadata": {},
   "source": [
    "Vamos estimar a probabilidade de cara usando o critério de MLE (Maximum likelihood estimation), para isso vamos escrever a probabilidade de observar a sequência dado que a moeda tem probabilidade $\\theta$.\n",
    "\n",
    "$L(\\overline{X}; \\theta)$ = $p(\\overline{X}/\\theta)$ = $\\prod_{i=0}^{n=5}\\theta^{X_i}(1-\\theta)^{(1-X_i)}$\n",
    "\n",
    "Vamos encontrar $\\theta$ que máximiza a função verossimilhança:\n",
    "\n",
    "$\\theta = \\underset{\\theta}{\\operatorname{argmax}}L(\\overline{X}; \\theta) = \\underset{\\theta}{\\operatorname{argmax}}log(L(\\overline{X};\\theta)) = \\sum_{i=0}^{n=5}log(\\theta^{X_i}(1-\\theta)^{1-X_i}) = \\sum_{i=1}^{n=5}X_ilog(\\theta)+(1-X_i)log(1-\\theta)$\n",
    "\n",
    "Devirvando em relação a $\\theta$ e igualando a 0 temos:\n",
    "\n",
    "$\\frac{1}{\\theta}\\sum_{i=1}^{n=5}X_i -\\frac{1}{1-\\theta}\\sum_{i=0}^{n=5}(1-X_i)$ = 0\n",
    "\n",
    "Apos rearrajar a expressão temos:\n",
    "\n",
    "$\\theta_{max} = \\frac{1}{n}\\sum_{i=0}^{n=5}X_i$\n",
    "\n",
    "Ou seja, a probabilidade que máximiza o resultado observado é dada pela média do número de caras.\n",
    "\n",
    "Vamos verficar isso graficamente."
   ]
  },
  {
   "cell_type": "code",
   "execution_count": 5,
   "metadata": {},
   "outputs": [],
   "source": [
    "head_prob_candidate = np.linspace(0, 1, 1500)"
   ]
  },
  {
   "cell_type": "code",
   "execution_count": 6,
   "metadata": {},
   "outputs": [],
   "source": [
    "binpdf = stats.binom.pmf(np.sum(toss_results == 1), len(toss_results), head_prob_candidate)"
   ]
  },
  {
   "cell_type": "code",
   "execution_count": 7,
   "metadata": {},
   "outputs": [
    {
     "data": {
      "image/png": "[encoded data removed]",
      "text/plain": [
       "<Figure size 432x288 with 1 Axes>"
      ]
     },
     "metadata": {
      "needs_background": "light"
     },
     "output_type": "display_data"
    }
   ],
   "source": [
    "plt.plot(head_prob_candidate, binpdf)\n",
    "plt.ylabel(\"Likelihood\")\n",
    "plt.xlabel(\"Head Probability\")\n",
    "plt.grid()"
   ]
  },
  {
   "cell_type": "code",
   "execution_count": 8,
   "metadata": {},
   "outputs": [
    {
     "data": {
      "text/plain": [
       "0.7998665777184789"
      ]
     },
     "execution_count": 8,
     "metadata": {},
     "output_type": "execute_result"
    }
   ],
   "source": [
    "head_prob_candidate[np.argmax(binpdf)]"
   ]
  },
  {
   "cell_type": "markdown",
   "metadata": {},
   "source": [
    "E calculando a média temos:"
   ]
  },
  {
   "cell_type": "code",
   "execution_count": 9,
   "metadata": {},
   "outputs": [
    {
     "data": {
      "text/plain": [
       "0.8"
      ]
     },
     "execution_count": 9,
     "metadata": {},
     "output_type": "execute_result"
    }
   ],
   "source": [
    "np.mean(toss_results)"
   ]
  },
  {
   "cell_type": "markdown",
   "metadata": {},
   "source": [
    "Notamos que o máximo da função de verossimilhança de fato coincide com o valor calculado."
   ]
  },
  {
   "cell_type": "markdown",
   "metadata": {},
   "source": [
    "Quando usamos o estimador MLE assumimos que os valores dos parâmetros a serem estimados são determinísticos, essa premissa nos impõe algumas restrições na hora de modelarmos problemas reais.\n",
    "\n",
    "Para ilustrar essas limitações imaginemos que a moeda usada nos lançamentos foi dada por você de forma voluntária, após os 5 resultados não seria então razoável aceitar que a probabilidade de cara é de 80%, já que esperamos que uma moeda regular tenha igual probabilidade de cara e coroa.\n",
    "\n",
    "Nesse caso temos um conhecimento prévio sobre a origem da moeda que não está incluido na estimativa via MLE, já que esta olha somente para os dados observados. Precisamos então inclui-lo no modelo do problema de alguma maneira.\n",
    "\n",
    "Para nossa sorte, temos uma ferramenta para isso, a estatística Baysiana. Quando fazemos uma inferência baysiana não vemos mais a probabilidade de cara $\\theta$ como um parâmetro, mas sim como uma variável aleatória que por sua vez terá a sua própria distribuição de probabilidade. Isso nos permite através da modelagem da pdf $\\theta$ mostrar nossa crença inicial sobre o valor de $\\theta$.\n",
    "\n",
    "Por exemplo, se assumirmos que não temos conhecimento prévio sobre $\\theta$ poderíamos modelar sua pdf como uniformemente distribuída entre 0 e 1. Já no cenário no qual nós fornecemos a moeda, temos grandes motivações para acreditar que a probabilidade de cara é um número próximo a 0.5 e poderíamos modelar a pdf de $\\theta$ como uma pdf na qual $p(\\theta = 0.5)$ é alto.\n",
    "\n",
    "Vamos fazer isso modelando a pdf de $\\theta$ por uma distribuição Beta. A distribuição Beta é uma pdf para variáveis aleatórias contínuas definidas no intervalo 0 e 1, como é o caso da probabilidade de se tirar cara. Além disso esta é definida basicamente por dois parâmetros $a$ e $b$. Mais detalhes sobre a distribuição Beta pode ser vistos em:\n",
    "\n",
    "https://en.wikipedia.org/wiki/Beta_distribution"
   ]
  },
  {
   "cell_type": "markdown",
   "metadata": {},
   "source": [
    "### Probabilidade a priori"
   ]
  },
  {
   "cell_type": "markdown",
   "metadata": {},
   "source": [
    "Após ajustar os parâmetros $a$ e $b$ modelamos a pdf a proiri de $\\theta$ como mostrada no gráfico:"
   ]
  },
  {
   "cell_type": "code",
   "execution_count": 10,
   "metadata": {},
   "outputs": [
    {
     "data": {
      "image/png": "[encoded data removed]",
      "text/plain": [
       "<Figure size 432x288 with 1 Axes>"
      ]
     },
     "metadata": {
      "needs_background": "light"
     },
     "output_type": "display_data"
    }
   ],
   "source": [
    "a = b = 50\n",
    "dist = stats.beta(a, b).pdf(head_prob_candidate)\n",
    "\n",
    "plt.plot(head_prob_candidate, dist)\n",
    "plt.ylabel(\"P(theta)\")\n",
    "plt.xlabel(\"A Priori Head Probability\")\n",
    "plt.grid()"
   ]
  },
  {
   "cell_type": "markdown",
   "metadata": {},
   "source": [
    "Podemos verificar que a gráfico de fato representa uma pdf já que sua área é igual a 1."
   ]
  },
  {
   "cell_type": "code",
   "execution_count": 11,
   "metadata": {},
   "outputs": [
    {
     "data": {
      "text/plain": [
       "0.9999999999999956"
      ]
     },
     "execution_count": 11,
     "metadata": {},
     "output_type": "execute_result"
    }
   ],
   "source": [
    "np.abs(np.trapz(head_prob_candidate, dist))"
   ]
  },
  {
   "cell_type": "markdown",
   "metadata": {},
   "source": [
    "Vemos que nossa informação a priori nos leva a acreditar que há uma grande chance da probabilidade de cara seja 0.5, mas pode variar um pouco devido a imperfeições em sua fabricação.\n"
   ]
  },
  {
   "cell_type": "markdown",
   "metadata": {},
   "source": [
    "### Estimador máximo a posterior (MAP)"
   ]
  },
  {
   "cell_type": "markdown",
   "metadata": {},
   "source": [
    "Com a pdf de $\\theta$ em mãos, vamos agora calcular o estimador MAP (Maximum a posterior), esse estimador escolhe como valor de $\\theta$ o valor que máximiza a probabilidade a posteriori. Cabe aqui, explicarmos o que o termo máximo a posteriori significa.\n",
    "\n",
    "Lembremos que a pdf de $\\theta$ é representação do nosso nosso conhecimento a priori, ou seja, o que sabemos sobre a moeda antes mesmo de qualquer lançamento ser realizado. Já a verossimilhança, nos mostra a probabilidade de observarmos os dados. Assim, a probabilidade a posteriori é definida como a probabilidade de $\\theta$ após a incluirmos ao nosso conhecimento prévio o conhecimento obtido após observar os dados.\n",
    "\n",
    "Matematicamente, podemos escrever isso através do teorema de Bayes:\n",
    "\n",
    "$p(B/A) = \\frac{p(A/B)p(B)}{p(A)}$\n",
    "\n",
    "Mais particularmente ao nosso caso, temos:\n",
    "\n",
    "$p(\\theta/\\overline{X}) = \\frac{p(\\overline{X}/\\theta)p(\\theta)}{p(\\overline{X})}$\n",
    "\n",
    "E $\\theta_{map}$ será dado por:\n",
    "\n",
    "$\\theta = \\underset{\\theta}{\\operatorname{argmax}}p(\\theta/\\overline{X}) = \\underset{\\theta}{\\operatorname{argmax}}log(\\frac{p(\\overline{X}/\\theta)p(\\theta)}{p(\\overline{X})}) = {\\operatorname{argmax}}\\frac{p(\\overline{x}/\\theta)p(\\theta)}{p(\\over)}= \\operatorname{argmax}log(p(\\overline{X}/\\theta))+log(p(\\theta))$ \n",
    "\n",
    "Podemos ignorar $p(\\overline{X})$, já que esse termo não depende de $\\theta$ e pode ser descartado.\n",
    "\n",
    "Continuando o desenvolvimento:\n",
    "\n",
    " $\\underset{\\theta}{\\operatorname{argmax}}log(p(\\theta/\\overline{X})) = \\sum_{i=1}^{n=5}X_ilog(\\theta)+(1-X_i)log(1-\\theta) + log(Beta(\\theta; a, b))$\n",
    " \n",
    "Derivando temos:\n",
    "\n",
    "$\\frac{1}{\\theta}\\sum_{i=0}^{n=5}X_i - \\frac{1}{1-\\theta}\\sum_{i=0}^{n=5}(1-X_i) + \\frac{a-1}{\\theta} -\\frac{b-1}{1-\\theta}$ => $\\theta_{map} = \\frac{n_R + a -1}{n+b+a-2}$, onde $n_R = \\sum_{i=0}^{n=5}X_i$ e $n = 5$ \n"
   ]
  },
  {
   "cell_type": "markdown",
   "metadata": {},
   "source": [
    "O valor teórico de $\\theta_{map} será:$"
   ]
  },
  {
   "cell_type": "code",
   "execution_count": 12,
   "metadata": {},
   "outputs": [
    {
     "data": {
      "text/plain": [
       "0.5145631067961165"
      ]
     },
     "execution_count": 12,
     "metadata": {},
     "output_type": "execute_result"
    }
   ],
   "source": [
    "head_prob_map = (np.sum(toss_results)+a-1)/(len(toss_results)+a+b-2)\n",
    "head_prob_map"
   ]
  },
  {
   "cell_type": "markdown",
   "metadata": {},
   "source": [
    "Vamos verificar esse resultado graficamente olhando o termo:\n",
    "\n",
    "$f_{map}(\\theta) = p(\\overline{X}/\\theta)p(\\theta)$"
   ]
  },
  {
   "cell_type": "code",
   "execution_count": 13,
   "metadata": {},
   "outputs": [
    {
     "data": {
      "image/png": "[encoded data removed]",
      "text/plain": [
       "<Figure size 432x288 with 1 Axes>"
      ]
     },
     "metadata": {
      "needs_background": "light"
     },
     "output_type": "display_data"
    }
   ],
   "source": [
    "f_map = stats.beta(a, b).pdf(head_prob_candidate)*binpdf\n",
    "\n",
    "plt.plot(head_prob_candidate, dist)\n",
    "plt.ylabel(\"P(theta)\")\n",
    "plt.xlabel(\"A Priori Head Probability\")\n",
    "plt.grid()"
   ]
  },
  {
   "cell_type": "code",
   "execution_count": 14,
   "metadata": {},
   "outputs": [
    {
     "data": {
      "text/plain": [
       "0.514342895263509"
      ]
     },
     "execution_count": 14,
     "metadata": {},
     "output_type": "execute_result"
    }
   ],
   "source": [
    "head_prob_candidate[np.argmax(f_map)]"
   ]
  },
  {
   "cell_type": "markdown",
   "metadata": {},
   "source": [
    "Vemos que a estimativa MAP é muito diferente da estimativa ML e que essa se aproxima do que esperávamos ao conhecer a origem da moeda. Nesse caso mesmo após quatro caras ainda acreditamos que a probabilidade é próxima a 0.5, um pouco maior que este valor talvez devida a alguma imperfeição."
   ]
  },
  {
   "cell_type": "markdown",
   "metadata": {},
   "source": [
    "É importante notar que para o cálculo de $\\theta_{map}$ não foi necessário calcular de fato a probabilidade a posteriori pois para isso necessitaríamos calcular o termo $p(\\overline{X})$ que aparece no denominador do teorema de Bayes. Este termo aparentemente simples, representa o maior desafio no calculo da pdf a posteriori. \n",
    "\n",
    "Por sorte (ou nem tanto) ao escolhermos nossa probabilidade a priori como sendo uma distribuição Beta, a probabilidade a posterior também será do tipo Beta, por isso, a distribuição Beta é chamada de conjugada para processos com pdf binomial. Mais informações sobre pdfs conjugadas podem ser vistas em:"
   ]
  },
  {
   "cell_type": "markdown",
   "metadata": {},
   "source": [
    "https://en.wikipedia.org/wiki/Conjugate_prior"
   ]
  },
  {
   "cell_type": "markdown",
   "metadata": {},
   "source": [
    "Olhando a tabela no link referenciado, a nova posteriori será dada por uma distribuição Beta com novos a e b iguais:\n",
    "\n",
    "$a_{new} = a + \\sum_{i=0}^{n=5}X_i$ e $b_{new} = b + N - \\sum_{i=0}^{n=5}X_i$\n",
    "\n",
    "Assim a probabilidade a posteriori é dada por:"
   ]
  },
  {
   "cell_type": "code",
   "execution_count": 15,
   "metadata": {},
   "outputs": [
    {
     "data": {
      "image/png": "[encoded data removed]",
      "text/plain": [
       "<Figure size 432x288 with 1 Axes>"
      ]
     },
     "metadata": {
      "needs_background": "light"
     },
     "output_type": "display_data"
    }
   ],
   "source": [
    "a_new = a + np.sum(toss_results)\n",
    "b_new = b + len(toss_results) - np.sum(toss_results)\n",
    "\n",
    "posterior = stats.beta(a_new, b_new).pdf(head_prob_candidate)\n",
    "\n",
    "plt.plot(head_prob_candidate, posterior)\n",
    "plt.ylabel(\"P(theta)\")\n",
    "plt.xlabel(\"A Priori Head Probability\")\n",
    "plt.grid()"
   ]
  },
  {
   "cell_type": "markdown",
   "metadata": {},
   "source": [
    "Podemos verificar o seu máximo e ver que ele coincide com o valor encontrado ao maximizar somente os termos $p(\\overline{X}/\\theta)p(\\theta)$."
   ]
  },
  {
   "cell_type": "code",
   "execution_count": 16,
   "metadata": {},
   "outputs": [
    {
     "data": {
      "text/plain": [
       "0.514342895263509"
      ]
     },
     "execution_count": 16,
     "metadata": {},
     "output_type": "execute_result"
    }
   ],
   "source": [
    "head_prob_candidate[np.argmax(posterior)]"
   ]
  },
  {
   "cell_type": "markdown",
   "metadata": {},
   "source": [
    "### Estimador de mínimo erro quadrático médio (MMSE)"
   ]
  },
  {
   "cell_type": "markdown",
   "metadata": {},
   "source": [
    "Assim como nos casos anteriores, vamos calcular o estimador MMSE a partir de sua definição."
   ]
  },
  {
   "cell_type": "markdown",
   "metadata": {},
   "source": [
    "$\\theta_{MMSE} = \\underset{\\theta}{\\operatorname{argmin}}\\int{(\\theta-\\hat{\\theta})^2p(\\theta/\\overline{X})}d\\theta$\n",
    "\n",
    "Derivando em relação a $\\hat{\\theta}$ igualando a 0 temos:\n",
    "\n",
    "$\\theta_{MMSE} = \\int{\\theta}p(\\theta/\\overline{X})d\\theta = E(\\theta/\\overline{X})$\n",
    "\n",
    "Ou seja, o estimador MMSE é igual é média da probabilidade a posteriori. \n",
    "\n",
    "No nosso caso, a média de uma distribuição Beta com parâmetros $a$ e $b$ é:\n",
    "\n",
    "$E(Beta(a, b)) = \\frac{a}{a+b}$\n",
    "\n",
    "Vamos então calcular o estimador MMSE pela equação e numericamente:\n"
   ]
  },
  {
   "cell_type": "code",
   "execution_count": 17,
   "metadata": {},
   "outputs": [
    {
     "data": {
      "text/plain": [
       "0.5142857142857142"
      ]
     },
     "execution_count": 17,
     "metadata": {},
     "output_type": "execute_result"
    }
   ],
   "source": [
    "theta_mmse = a_new/(a_new+b_new)\n",
    "theta_mmse"
   ]
  },
  {
   "cell_type": "code",
   "execution_count": 18,
   "metadata": {},
   "outputs": [
    {
     "data": {
      "text/plain": [
       "0.5139428571428575"
      ]
     },
     "execution_count": 18,
     "metadata": {},
     "output_type": "execute_result"
    }
   ],
   "source": [
    "np.mean(head_prob_candidate*posterior)"
   ]
  },
  {
   "cell_type": "markdown",
   "metadata": {},
   "source": [
    "Vemos que o cálculo do valor esperado da pdf a posterior foi igual ao através da equação da média da distruição Beta como esperado. E que apesar de próximo, o estimador MMSE é um pouco diferente do estimador MAP."
   ]
  },
  {
   "cell_type": "markdown",
   "metadata": {},
   "source": [
    "### Probabilidade a posteriori"
   ]
  },
  {
   "cell_type": "markdown",
   "metadata": {},
   "source": [
    "Apesar do estimador MLE considerar que nosso parâmetro $\\theta$ seja um parâmetro a ser determinado e os estimadores MAP e MMSE considerarem que $\\theta$ é uma variável aleatória, ainda assim todos esses estimadores nos dão como resultado um único valor em relação a $\\theta$, ou seja, toda a informação contida na probabilidade a posteriori é resumida em um único valor.\n",
    "\n",
    "É importante lembrar que a pdf a posterior pode apresentar infomações mais valiosas do que somente um número. Por isso, pode ser preferível observar-lá antes de tomar qualquer decisão. Para o nosso exemplo o gráfico da pdf a posteriori é dado por:"
   ]
  },
  {
   "cell_type": "code",
   "execution_count": 19,
   "metadata": {},
   "outputs": [
    {
     "data": {
      "image/png": "[encoded data removed]",
      "text/plain": [
       "<Figure size 432x288 with 1 Axes>"
      ]
     },
     "metadata": {
      "needs_background": "light"
     },
     "output_type": "display_data"
    }
   ],
   "source": [
    "plt.plot(head_prob_candidate, posterior)\n",
    "plt.xlabel(\"A Priori Head Probability\")\n",
    "plt.grid()"
   ]
  },
  {
   "cell_type": "markdown",
   "metadata": {},
   "source": [
    "A partir da pdf a posterior, podemos se quisermos definir outros criterios, um exemplo seria um intervalo de 90% centrando no ponto mais provável da pdf."
   ]
  },
  {
   "cell_type": "code",
   "execution_count": 21,
   "metadata": {},
   "outputs": [],
   "source": [
    "center_index = np.argmax(dist)\n",
    "\n",
    "step_index = 1\n",
    "prob = 0\n",
    "\n",
    "while prob < 0.90:\n",
    "    min_index = center_index-step_index\n",
    "    max_index = center_index+step_index\n",
    "    prob = np.abs(np.trapz(head_prob_candidate[min_index:max_index],\n",
    "                           dist[min_index:max_index]))\n",
    "    step_index += 1\n",
    "    \n",
    "    \n",
    "min_prob = head_prob_candidate[min_index]\n",
    "max_prob = head_prob_candidate[max_index]"
   ]
  },
  {
   "cell_type": "code",
   "execution_count": 22,
   "metadata": {},
   "outputs": [
    {
     "data": {
      "image/png": "[encoded data removed]",
      "text/plain": [
       "<Figure size 432x288 with 1 Axes>"
      ]
     },
     "metadata": {
      "needs_background": "light"
     },
     "output_type": "display_data"
    }
   ],
   "source": [
    "plt.plot(head_prob_candidate, posterior)\n",
    "plt.fill_between(head_prob_candidate[min_index:max_index], posterior[min_index:max_index])\n",
    "plt.ylabel(\"P(theta)\")\n",
    "plt.xlabel(\"A Priori Head Probability\")\n",
    "plt.grid()"
   ]
  },
  {
   "cell_type": "code",
   "execution_count": 23,
   "metadata": {},
   "outputs": [
    {
     "data": {
      "text/plain": [
       "(0.3755837224816544, 0.6250833889259506)"
      ]
     },
     "execution_count": 23,
     "metadata": {},
     "output_type": "execute_result"
    }
   ],
   "source": [
    "(min_prob, max_prob)"
   ]
  },
  {
   "cell_type": "markdown",
   "metadata": {},
   "source": [
    "Ou seja, temos 90% de confiança de que o verdadeiro $\\theta$ está entre 0.37 e 0.62."
   ]
  },
  {
   "cell_type": "markdown",
   "metadata": {},
   "source": [
    "### Conclusão"
   ]
  },
  {
   "cell_type": "markdown",
   "metadata": {},
   "source": [
    "Neste tópico discutimos:\n",
    "- Diferêntes maneiras de transformar dados em estimativas.\n",
    "- Como modelar e estimar a probabilidade de obter cara num seqûencia de lancamentos de moedas.\n",
    "- Como calulcar o estimador MLE e quais premissas estamos assumindo ao usarmos.\n",
    "- Como podemos incluir nosso conhecimento prévio sobre a moeda lançada através de uma probabilidade a priori\n",
    "- Como combinar à probabilidade a proiri com a informação obtida com os dados e assim atualizar nossa crença sobre o valor de $\\theta$.\n",
    "- Como calcular o estimador MMSE\n",
    "- A importância e utilidade a probabilidade a posteriori\n",
    "- Como podemos a partir da probabilidade a posterior resumi-la segundo os mais diferentes critérios, no caso um intervalo de confiança."
   ]
  }
 ],
 "metadata": {
  "kernelspec": {
   "display_name": "Python 3",
   "language": "python",
   "name": "python3"
  },
  "language_info": {
   "codemirror_mode": {
    "name": "ipython",
    "version": 3
   },
   "file_extension": ".py",
   "mimetype": "text/x-python",
   "name": "python",
   "nbconvert_exporter": "python",
   "pygments_lexer": "ipython3",
   "version": "3.7.6"
  }
 },
 "nbformat": 4,
 "nbformat_minor": 4
}
