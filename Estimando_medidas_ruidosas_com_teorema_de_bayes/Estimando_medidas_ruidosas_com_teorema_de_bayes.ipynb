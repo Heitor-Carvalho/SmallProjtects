{
 "cells": [
  {
   "cell_type": "markdown",
   "metadata": {},
   "source": [
    "### Sumário\n",
    "\n",
    "- Estimando medidas ruidosas com teorema de bayes\n",
    "- Pdf a posterior e teorema de bayes\n",
    "- Pdf a priori, verossimilhanca e pdf a posteriori\n",
    "- Simulando medidas ruidosas do parâmetro X\n",
    "- Definindo a pdf a priori e a calculando a função de verossimilhança\n",
    "- Calculando a pdf a posteriori\n",
    "- Estimando X dinâmicamente\n",
    "- Observando a evolução pdf posteriori ao longo das medidas\n",
    "- Conclusão"
   ]
  },
  {
   "cell_type": "markdown",
   "metadata": {},
   "source": [
    "### Estimando medidas com ruídos com teorema de bayes"
   ]
  },
  {
   "cell_type": "markdown",
   "metadata": {},
   "source": [
    "Hoje iremos ver como podemos estimar o valor de um parâmetro e sua incerteza sobre ele usando estatística baysiana.\n",
    "\n",
    "Vamos analisar o exemplo no qual queremos estimar o valor de uma grandeza X contaminada por um ruído gaussiano.\n",
    "\n",
    "$Y = aX_{real} + \\eta$, onde $\\eta$ ~ $N(0, \\sigma^2)$ \n",
    "\n",
    "Podemos supor que $X_{real}$ tem um valor determinístico e constante, mas para podermos incluir no processo nossa incerteza sobre o valor de $X$ vamos modelá-lo como uma v.a. aleatória, esse tipo de modelo faz sentido já que a princípio não temos idéia sobre o valor exato de $X_{real}$. Assim, podemos modelar X como uma v.a. gaussiana com média $\\mu_0$ e variância $\\sigma_0^2$.\n",
    "\n",
    "A média $\\mu_0$ representa nosso chute inicial em relação ao valor $\\mu_0$ e a variância representa a nossa incerteza em relação a $\\mu_0$. Desse modo, caso não tenhamos um bom chute de valor inicial podemos simplesmente colocar um valor qualquer para $\\mu_0$ e uma varância muito grande.\n",
    "\n",
    "Para continuarmos, vamos supor que  observamos uma sequência de observações $\\overline{y} = \\{y_0, y_1, ..., y_n\\}$  e queremos atualizar a pdf de $X$ com a informação trazidas pelas amostras de $y$."
   ]
  },
  {
   "cell_type": "markdown",
   "metadata": {},
   "source": [
    "### Pdf a posterior e teorema de bayes"
   ]
  },
  {
   "cell_type": "markdown",
   "metadata": {},
   "source": [
    "Como agora nossa parâmetro desconhecido X é representado por uma v.a. aleatória $X$, podemos calcular a probabiliade após observarmos as medidas, ou seja, queremos obter:\n",
    "\n",
    "$p(x/y_{1..n})$\n",
    "\n",
    "Porém inicialmente so temos a nossa dispoção o conhecimento das amostras $\\overline{y}$ e a pdf a priori de $X$, para nossa sorte essas duas informações podem ser relacionadas pelo teorema de bayes da seguinda forma:\n",
    "\n",
    "$p(x/y_{1..n}) = \\frac{p(y_{1..n}/x)p(x)}{p(y_{1..n})}$\n",
    "\n",
    "Com isso, podemos chegar a pdf a posteriori e assim atualizar nossa crença sobre a v.a. $X$ através do teorema de bayes. A seguir vamos desenvolver essas equações e ver como calcular os novos parâmetros da v.a. X com pdf gaussiana."
   ]
  },
  {
   "cell_type": "markdown",
   "metadata": {},
   "source": [
    "### Pdf a priori, verossimilhanca e pdf a posteriori"
   ]
  },
  {
   "cell_type": "markdown",
   "metadata": {},
   "source": [
    "Com o discutido acima, vamos inicialmente \"chutar\" uma pdf a $X$, sendo está pdf à priori dada por:\n",
    "\n",
    "p(x) = $N(\\mu_0, \\sigma_0^2)$\n",
    "\n",
    "Em seguida calculemos a função de verossimilhança referente a $n$ observações:\n",
    "\n",
    "$p(y_{1..n}/x) = \\prod_{i=0}^{i=n}p(y_{1..n}/x) = \\prod_{i=0}^{i=n}{\\frac{1}{\\sigma\\sqrt{2\\pi}}e^{-\\frac{1}{2}(\\frac{y_i-ax}{\\sigma})^2}}$\n",
    "\n",
    "A pdf a posteriori, aquela após incluirmos a informação das medidas observadas é dada por:\n",
    "\n",
    "$p(x/y_{1..n}) = \\frac{p(x)p(y_{1..n}/x)}{p(y_{1..n})}$\n",
    "\n",
    "Como $p(y_{1..n})$ é uma constante de normalização e não depende $x$, vamos ignorar esse termo escrevendo:\n",
    "\n",
    "$p(x/y_{1..n}) \\propto p(y_{1..n}/x)p(x) = \\frac{1}{\\sigma\\sqrt{2\\pi}}e^{-\\frac{1}{2}(\\frac{x-\\mu_0}{\\sigma_0})^2}\\prod_{i=0}^{i=n}{\\frac{1}{\\sigma\\sqrt{2\\pi}}e^{-\\frac{1}{2}(\\frac{y_i-ax}{\\sigma})^2}} = N(\\mu_0, \\sigma_0^2)\\prod_{i=0}^{i=n}N(ax, \\sigma^2)$\n",
    "\n",
    "Ou seja, a pdf a posteriori será o produto de gaussianas. Usando a propriedade de que produto de duas gaussianas também é uma gaussiana (https://ccrma.stanford.edu/~jos/sasp/Product_Two_Gaussian_PDFs.html) temos:\n",
    "\n",
    "$p(x/y_{1..n}) = N((\\frac{\\mu_0}{\\sigma_0^2}+\\frac{a\\sum{y_i}}{\\sigma^2})\\sigma_n^2, \\sigma_n^2)$ onde $\\sigma_n^2 = \\frac{1}{\\frac{1}{\\sigma_0^2} + \\frac{na^2}{\\sigma^2}}$\n",
    "\n",
    "Vemos que a pdf a posteriori depende dos parâmetros da pdf a priori, dos valores observados e da variância do ruído e mais interessante vemos que com o aumento de $n$ a variância $\\sigma_n^2$ tenderá a 0. Ou seja, se obtivermos medidas suficiente poderemos ter uma boa estimativa de X. "
   ]
  },
  {
   "cell_type": "markdown",
   "metadata": {},
   "source": [
    "### Simulando medidas ruidosas do parâmetro X"
   ]
  },
  {
   "cell_type": "code",
   "execution_count": 1,
   "metadata": {},
   "outputs": [],
   "source": [
    "import numpy as np\n",
    "import matplotlib.pyplot as plt"
   ]
  },
  {
   "cell_type": "markdown",
   "metadata": {},
   "source": [
    "Vamos simular o exemplo discutido definindo os parâmetros reais da pdf de X."
   ]
  },
  {
   "cell_type": "code",
   "execution_count": 2,
   "metadata": {},
   "outputs": [],
   "source": [
    "mu_real = 3;"
   ]
  },
  {
   "cell_type": "markdown",
   "metadata": {},
   "source": [
    "Em seguida, os valores da pdf a priori."
   ]
  },
  {
   "cell_type": "code",
   "execution_count": 3,
   "metadata": {},
   "outputs": [],
   "source": [
    "mu0 = 1;\n",
    "sigma0 = np.sqrt(2);"
   ]
  },
  {
   "cell_type": "markdown",
   "metadata": {},
   "source": [
    "Vamos coletar algumas amostras e ver graficamente a pdf a priori, a verossimilhança e a posteriori."
   ]
  },
  {
   "cell_type": "code",
   "execution_count": 4,
   "metadata": {},
   "outputs": [],
   "source": [
    "sigma = np.sqrt(4) # Variância do ruido\n",
    "a = 2\n",
    "n = 10 # Número de amostras observadas"
   ]
  },
  {
   "cell_type": "code",
   "execution_count": 5,
   "metadata": {},
   "outputs": [],
   "source": [
    "y = a*mu_real+ np.random.normal(0, sigma, n)"
   ]
  },
  {
   "cell_type": "markdown",
   "metadata": {},
   "source": [
    "### Definindo a pdf a priori e a calculando a função de verossimilhança"
   ]
  },
  {
   "cell_type": "code",
   "execution_count": 6,
   "metadata": {},
   "outputs": [],
   "source": [
    "# Função gaussiana (pdf a prior e a posteriori)\n",
    "def gaussian(x, mu, std):\n",
    "    return np.exp(-0.5*((x-mu)/std)**2)/(std*np.sqrt(2*np.pi))"
   ]
  },
  {
   "cell_type": "code",
   "execution_count": 7,
   "metadata": {},
   "outputs": [],
   "source": [
    "def verossimilhanca(y, mu, std):\n",
    "    return np.exp(-0.5*((y-mu)/std)**2)/(std*np.sqrt(2*np.pi))"
   ]
  },
  {
   "cell_type": "markdown",
   "metadata": {},
   "source": [
    "Cálculo da função de verossimilhança como sendo o produto de várias gaussianas."
   ]
  },
  {
   "cell_type": "code",
   "execution_count": 8,
   "metadata": {},
   "outputs": [],
   "source": [
    "mu = np.linspace(-5, 10, 1000)"
   ]
  },
  {
   "cell_type": "code",
   "execution_count": 9,
   "metadata": {},
   "outputs": [],
   "source": [
    "gauss_y = np.array([verossimilhanca(obs, a*mu, sigma) for obs in y])\n",
    "verossim = np.prod(gauss_y, 0)"
   ]
  },
  {
   "cell_type": "markdown",
   "metadata": {},
   "source": [
    "### Calculando a pdf a posteriori"
   ]
  },
  {
   "cell_type": "markdown",
   "metadata": {},
   "source": [
    "Parâmetros da pdf a posteriori."
   ]
  },
  {
   "cell_type": "code",
   "execution_count": 10,
   "metadata": {},
   "outputs": [],
   "source": [
    "sigma_pos = np.sqrt(1/(1/sigma0**2 + n*a**2/sigma**2))\n",
    "mu_pos = (mu0/sigma0**2 + a*np.sum(y[0:n])/sigma**2)*sigma_pos**2"
   ]
  },
  {
   "cell_type": "markdown",
   "metadata": {},
   "source": [
    "Vamos conferir graficamante a pdf a priori e a posterior."
   ]
  },
  {
   "cell_type": "code",
   "execution_count": 11,
   "metadata": {},
   "outputs": [],
   "source": [
    "prod = gaussian(mu, mu0, sigma0)*verossim"
   ]
  },
  {
   "cell_type": "code",
   "execution_count": 12,
   "metadata": {},
   "outputs": [
    {
     "data": {
      "image/png": "[encoded data removed]",
      "text/plain": [
       "<Figure size 720x432 with 1 Axes>"
      ]
     },
     "metadata": {
      "needs_background": "light"
     },
     "output_type": "display_data"
    }
   ],
   "source": [
    "plt.figure(figsize=(10, 6))\n",
    "plt.plot(mu, gaussian(mu, mu0, sigma0))\n",
    "plt.plot(mu, gaussian(mu, mu_pos, sigma_pos))\n",
    "plt.plot(mu, np.abs(prod/np.trapz(mu, prod)), '--')\n",
    "plt.legend([\"p(x) A priori\", \"p(x/y1..n) A posteiri\", \"Normalized p(x)p(y_(i..n)/x)\"])\n",
    "plt.grid()"
   ]
  },
  {
   "cell_type": "markdown",
   "metadata": {},
   "source": [
    "Pelo gráfico vemos que inicialmente nossa crença sobre X era que este tinha um valor médio de $\\mu_0$ e uma variância de $\\sigma_0^2$ e que após incluir a informação da verossimilhança nossa nova estimativa passou a ser: "
   ]
  },
  {
   "cell_type": "code",
   "execution_count": 13,
   "metadata": {},
   "outputs": [
    {
     "data": {
      "text/plain": [
       "(2.9960895933977327, 0.09523809523809525)"
      ]
     },
     "execution_count": 13,
     "metadata": {},
     "output_type": "execute_result"
    }
   ],
   "source": [
    "mu_pos, sigma_pos**2"
   ]
  },
  {
   "cell_type": "markdown",
   "metadata": {},
   "source": [
    "Ou seja, a média passou a ser bem próxima do valor real e a desvio padrão menor que o valor inicialmente adotado. Permitindo obter uma boa estimativa sobre o valor da grandeza X."
   ]
  },
  {
   "cell_type": "markdown",
   "metadata": {},
   "source": [
    "### Estimando X dinâmicamente"
   ]
  },
  {
   "cell_type": "markdown",
   "metadata": {},
   "source": [
    "Apesar do problema discutido parecer extremamente abstrato, diversas aplicações podem ser escritas através da equação:\n",
    "\n",
    "$Y = aX + \\eta$, onde $\\eta$ ~ $N(0, \\sigma^2)$ \n",
    "\n",
    "Um exemplo, seria observar as medidas de um sensor que mede uma quantidade X, a própria quantia a ser medida comporta-se de fato como uma v.a. aleatória pois esta oscila em torno de um valor médio. Além disso, a própria observação com o sensor adiciona ruído a medida representando na nossa equação por $\\eta$ e $a$ é uma constante de proporcionalidade do sensor. \n",
    "\n",
    "Somente neste pequeno exemplo já incluímos uma grande variedade aplicações como medir tensões, temperatura, posição, velocidade, etc."
   ]
  },
  {
   "cell_type": "markdown",
   "metadata": {},
   "source": [
    "Calcular a probabilidade a posteriori tem como resultado o agrupamento de medidas ruidosas para estimar o valor de uma grandeza. Agora imaginemos um processo em tempo real, no qual não temos $n$ medidas em um só instance, será que precisamos esperar $n$ medidas para estimar o valor? Ou podemos a cada medida nova incrementar nossa estimativa usando o último valor estimado? \n",
    "\n",
    "Graças ao teorema de bayes podemos sim realizar nossa estimativa passo a passo aumentando sua precisão a cada novo valor observado, fazemos isso atualização a pdf a posteriori com os valores dos novos dados."
   ]
  },
  {
   "cell_type": "markdown",
   "metadata": {},
   "source": [
    "Vamos assumir que temos a estimativa a posteriori feita usando a medida do índice $i$, isto é, temos:\n",
    "\n",
    "$p(x/y_{1..i})$\n",
    "\n",
    "E queremos calcular a posteriori após receber a medida $i+1$ $p(x/y_{1..i+1})$.\n",
    "\n",
    "Vamos aplicar o teorema de bayes ver como essas duas probabilidades se relacionam:\n",
    "\n",
    "$p(x/y_{1..i+1}) = \\frac{p(y_{1..i+1}/x)p(x)}{p(y_{1..i+1})}$\n",
    "\n",
    "Assim como fizemos antes, vamos ignorar o termo constante $p(y_{1..i+1})$, obtendo:\n",
    "\n",
    "$p(x/y_{1..i+1}) \\propto p(y_{1..i+1}/x)p(x) = p(y_{1..i}, y_{i+1}/x)p(x) = p(y_{i+1}/x)p(y_{1..i}/x)p(x) \\propto p(y_{i+1}/x)p(x/y_{1..i})$\n",
    "\n",
    "Ou seja, basta multiplicarmos a pdf a posterior anterior (aquela feita com $i$ medidas) pela função verossimilhança da medida $i+1$. Desenvolvendo as equações podemos relacionar os parâmetros da média e desvio padrão da pdf a posteriori:\n",
    "\n",
    "$p(x/y_{1..i+1}) = N((\\frac{\\mu_0}{\\sigma_0^2}+\\frac{a\\sum{y_i}}{\\sigma_{1..i}^2})\\sigma^2, \\sigma^2)$ onde $\\sigma^2 = \\frac{1}{\\frac{1}{\\sigma_0^2} + \\frac{a^2}{\\sigma^2}}$\n",
    "\n",
    "Ou seja, a cada nova amostra a média a posteriori é atualizada para uma média ponderada pelas variâncias da posteriori antiga e da função de verossimilhança, já a nova variância é dada pela media hârmonica das duas variâncias. "
   ]
  },
  {
   "cell_type": "markdown",
   "metadata": {},
   "source": [
    "### Observando a evolução pdf posteriori ao longo das medidas"
   ]
  },
  {
   "cell_type": "markdown",
   "metadata": {},
   "source": [
    "Vamos ver um exemplo numério acompanhando inicialmente a atualização da pdf a priori com a primeira medida $y_0$ e em seguida por uma segunda $y_1$. Para isso vamos verificar que tanto a pdf a priori, a pdf a priori e a posteriori possuem área sobre a curva igual 1."
   ]
  },
  {
   "cell_type": "code",
   "execution_count": 14,
   "metadata": {},
   "outputs": [
    {
     "data": {
      "text/plain": [
       "(-0.9998148818478434, -0.9998148818478434)"
      ]
     },
     "execution_count": 14,
     "metadata": {},
     "output_type": "execute_result"
    }
   ],
   "source": [
    "np.trapz(mu, gaussian(mu, mu0, sigma0)), np.trapz(mu, gaussian(mu, mu0, sigma0))"
   ]
  },
  {
   "cell_type": "code",
   "execution_count": 16,
   "metadata": {},
   "outputs": [],
   "source": [
    "# Posteriori depois da primeira medida\n",
    "sigma_pos_1 = np.sqrt(1/(1/sigma0**2 + a**2/sigma**2))\n",
    "mu_pos_1 = (mu0/sigma0**2 + a*y[0]/sigma**2)*sigma_pos_1**2\n",
    "\n",
    "# Posteriori depois da segunda medida\n",
    "sigma_pos_2 = np.sqrt(1/(1/sigma_pos_1**2 + a**2/sigma**2))\n",
    "mu_pos_2 = (mu_pos_1/sigma_pos_1**2 + a*y[1]/sigma**2)*sigma_pos_2**2"
   ]
  },
  {
   "cell_type": "markdown",
   "metadata": {},
   "source": [
    "Em seguida calculemos a função de verossimilhança:\n",
    "\n",
    "$p(y_{1..n}/x) = \\prod_{i=0}^{i=n}p(y_{1..n}/x) = \\prod_{i=0}^{i=n}{\\frac{1}{\\sigma\\sqrt{2\\pi}}e^{-\\frac{1}{2}(\\frac{y_i-ax}{\\sigma})^2}}$\n",
    "\n"
   ]
  },
  {
   "cell_type": "code",
   "execution_count": 17,
   "metadata": {},
   "outputs": [],
   "source": [
    "pdf_prod_1 = gauss_y[0]*gaussian(mu, mu0, sigma0)\n",
    "pdf_prod_2 = gauss_y[1]*gaussian(mu, mu_pos_1, sigma_pos_1)"
   ]
  },
  {
   "cell_type": "code",
   "execution_count": 19,
   "metadata": {},
   "outputs": [
    {
     "data": {
      "image/png": "[encoded data removed]",
      "text/plain": [
       "<Figure size 720x432 with 1 Axes>"
      ]
     },
     "metadata": {
      "needs_background": "light"
     },
     "output_type": "display_data"
    }
   ],
   "source": [
    "plt.figure(figsize=(10, 6))\n",
    "plt.plot(mu, gaussian(mu, mu0, sigma0))\n",
    "plt.plot(mu, gaussian(mu, mu_pos_1, sigma_pos_1))\n",
    "plt.plot(mu, gaussian(mu, mu_pos_2, sigma_pos_2))\n",
    "plt.legend([\"p(x) A priori\", \"p(x/y1)\", \"p(x/y1,2)\"])\n",
    "plt.grid()"
   ]
  },
  {
   "cell_type": "markdown",
   "metadata": {},
   "source": [
    "Podemos ver no gráfico que após cada medida a pdf a posteriori é alterada movendo sua média para próximo do valor real de X e diminuindo sua variância."
   ]
  },
  {
   "cell_type": "code",
   "execution_count": 36,
   "metadata": {},
   "outputs": [],
   "source": [
    "def prior_update(y, mu0, sigma0, sigma_noise):\n",
    "    sigma_pos = np.sqrt(1/(1/sigma0**2 + a**2/sigma_noise**2))\n",
    "    mu_pos = (mu0/sigma0**2 + a*y/sigma_noise**2)*sigma_pos**2\n",
    "    return mu_pos, sigma_pos\n"
   ]
  },
  {
   "cell_type": "code",
   "execution_count": 53,
   "metadata": {},
   "outputs": [],
   "source": [
    "n = 500\n",
    "y = a*mu_real+ np.random.normal(0, sigma, n)"
   ]
  },
  {
   "cell_type": "code",
   "execution_count": 54,
   "metadata": {},
   "outputs": [],
   "source": [
    "mu_list = [mu0]\n",
    "sigma_list = [sigma0]\n",
    "\n",
    "for idx, measurment in enumerate(y): \n",
    "    mu_pos, sigma_pos = prior_update(measurment, mu_list[idx], sigma_list[idx], sigma)\n",
    "    mu_list.append(mu_pos)\n",
    "    sigma_list.append(sigma_pos)"
   ]
  },
  {
   "cell_type": "code",
   "execution_count": 57,
   "metadata": {},
   "outputs": [
    {
     "data": {
      "image/png": "[encoded data removed]",
      "text/plain": [
       "<Figure size 1152x288 with 2 Axes>"
      ]
     },
     "metadata": {
      "needs_background": "light"
     },
     "output_type": "display_data"
    }
   ],
   "source": [
    "fig, axs = plt.subplots(1, 2, figsize=(16,4))\n",
    "axs[0].plot(mu_list)\n",
    "axs[0].set_ylabel(\"Média estimada para X\")\n",
    "axs[0].set_xlabel(\"Medida #\")\n",
    "axs[0].grid()\n",
    "axs[1].plot(sigma_list)\n",
    "axs[1].set_ylabel(\"Desvio padrão estimado para X\")\n",
    "axs[1].set_xlabel(\"Medida #\")\n",
    "axs[1].grid()"
   ]
  },
  {
   "cell_type": "markdown",
   "metadata": {},
   "source": [
    "Conforme processamos as medidas o valor médio tende a convergir para o valor real de X enquanto a desvio padrão da estimativa fica cada vez menor. Também é possível notar que iniciamente nossa incerteza caí rápidemente ao considerarmos as primeiras medidas na estimativa e que depois nossa precisão aumenta mais lentamente.\n",
    "\n",
    "Esse decaimento exponencial da incerteza pode também ser interpretado do ponto de vista de teoria da informação, pois as primeiras medidas trazem informações novas, mas como estas são muito correlacionadas com as seguintes a cada nova medida uma quantidade menor de informação é obtida e o desvio padrão cai mais lentamente. "
   ]
  },
  {
   "cell_type": "markdown",
   "metadata": {},
   "source": [
    "### Conclusão"
   ]
  },
  {
   "cell_type": "markdown",
   "metadata": {},
   "source": [
    "Neste tópico discutimos:\n",
    "- Como estimar um valor contaminado com ruído (aproximandamente gaussian).\n",
    "- Como a pdf a posterior, a função de verossimilhança e a pdf a priori de uma v.a. pode ser relacionada pelo teorema de bayes.\n",
    "- Como calcular a pdf a posterior considerando medidas em batch.\n",
    "- Como calcular a pdf a posterior considerando uma medida de cada vez de forma dinâmica.\n",
    "- Observamos graficamente a evolução da pdf."
   ]
  }
 ],
 "metadata": {
  "kernelspec": {
   "display_name": "Python 3",
   "language": "python",
   "name": "python3"
  },
  "language_info": {
   "codemirror_mode": {
    "name": "ipython",
    "version": 3
   },
   "file_extension": ".py",
   "mimetype": "text/x-python",
   "name": "python",
   "nbconvert_exporter": "python",
   "pygments_lexer": "ipython3",
   "version": "3.7.6"
  }
 },
 "nbformat": 4,
 "nbformat_minor": 4
}
