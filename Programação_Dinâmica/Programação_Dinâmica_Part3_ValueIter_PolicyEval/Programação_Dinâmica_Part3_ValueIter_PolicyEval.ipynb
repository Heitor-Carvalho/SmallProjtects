{
 "cells": [
  {
   "cell_type": "markdown",
   "metadata": {},
   "source": [
    "### Sumário\n",
    "\n",
    "- Voltando ao problema original\n",
    "- Algorítimo - Value Iteration \n",
    "- Algorítimo - Policy Iteration"
   ]
  },
  {
   "cell_type": "markdown",
   "metadata": {},
   "source": [
    "### Voltando ao problema original"
   ]
  },
  {
   "cell_type": "markdown",
   "metadata": {},
   "source": [
    "Nesta parte vamos remover a restrição de movimento adicionada na parte anterior e permitir que se posso mover para todas as direções quando o movimento for possível. Vamos também mudar o mapa do jogo de modo que a solução ótima envolva movimentos para cima e para baixo e para a direita."
   ]
  },
  {
   "cell_type": "code",
   "execution_count": 24,
   "metadata": {},
   "outputs": [],
   "source": [
    "import numpy as np\n",
    "import time\n",
    "import cliff\n",
    "import matplotlib.pyplot as plt\n",
    "from IPython.display import clear_output"
   ]
  },
  {
   "cell_type": "code",
   "execution_count": 25,
   "metadata": {},
   "outputs": [
    {
     "name": "stdout",
     "output_type": "stream",
     "text": [
      "-------------------------------------------------\n",
      "| 0 | 0 | 0 | 0 | 0 | * | 0 | 0 | 0 | 0 | 0 | 0 | \n",
      "-------------------------------------------------\n",
      "| 0 | * | 0 | 0 | 0 | * | 0 | 0 | * | * | 0 | 0 | \n",
      "-------------------------------------------------\n",
      "| 0 | * | 0 | 0 | 0 | 0 | 0 | 0 | 0 | * | 0 | 0 | \n",
      "-------------------------------------------------\n",
      "| P | * | * | * | * | * | * | * | * | * | 0 | G | \n",
      "-------------------------------------------------\n"
     ]
    },
    {
     "data": {
      "text/plain": [
       "<matplotlib.image.AxesImage at 0x7fc0aa38ef10>"
      ]
     },
     "execution_count": 25,
     "metadata": {},
     "output_type": "execute_result"
    },
    {
     "data": {
      "image/png": "[encoded data removed]",
      "text/plain": [
       "<Figure size 432x288 with 1 Axes>"
      ]
     },
     "metadata": {
      "needs_background": "light"
     },
     "output_type": "display_data"
    }
   ],
   "source": [
    "ROWS  = 4\n",
    "COLS  = 12\n",
    "START = (3, 0)\n",
    "GOAL  = (3, 11)\n",
    "\n",
    "OBSTACLE = [(3, 1), (3, 2), (3, 3), (3, 4), (3, 5), (3, 6), (3, 7), (3,8), (2, 1), (1, 1),\n",
    "            (2, 9), (2, 9), (2, 9), (2, 9), (2, 9), (2, 9), (2, 9), (2, 9), (2, 9), (3, 0), (0, 5), (1, 8), (3, 9), (1, 9), (1, 5)]\n",
    "\n",
    "cliff_game = cliff.Cliff(START, GOAL, ROWS, COLS, OBSTACLE)\n",
    "cliff_game.show()\n",
    "\n",
    "\n",
    "rewards = np.zeros((ROWS, COLS))\n",
    "for i in range(0, ROWS):\n",
    "    for j in range(0, COLS):\n",
    "        rewards[i, j] = cliff_game.getReward((i,j))\n",
    "        \n",
    "plt.imshow(rewards/np.max(rewards))\n"
   ]
  },
  {
   "cell_type": "code",
   "execution_count": 26,
   "metadata": {},
   "outputs": [],
   "source": [
    "# Função para calcular o próximo estado a partir da função valor\n",
    "def get_next_state_given_v_func(state, val_function):\n",
    "    state_down = (state[0]+1, state[1])\n",
    "    state_right = (state[0], state[1]+1)\n",
    "    state_up = (state[0]-1, state[1])\n",
    "    state_left = (state[0], state[1]-1)\n",
    "    i = state[0]\n",
    "    j = state[1]\n",
    "    next_state = [state_down, state_right, state_up, state_left, state]\n",
    "    \n",
    "    if i == 0 and j == 0:\n",
    "        state_idx = np.argmax(np.r_[val_function[(i+1, j)], val_function[(i, j+1)],\n",
    "                                    -np.inf, -np.inf])\n",
    "    # We can go up and left\n",
    "    elif i == ROWS-1 and j == COLS-1:\n",
    "        state_idx = 4\n",
    "\n",
    "    # We can go up and right\n",
    "    elif i == ROWS-1 and j == 0:\n",
    "        state_idx = np.argmax(np.r_[-np.inf, val_function[(i, j+1)],\n",
    "                                    val_function[(i-1, j)], -np.inf])\n",
    "        \n",
    "    # We can go down and left\n",
    "    elif i == 0 and j == COLS-1:\n",
    "        state_idx = np.argmax(np.r_[val_function[(i+1, j)], -np.inf, \n",
    "                                    -np.inf, val_function[(i, j-1)]])\n",
    "        \n",
    "    # We can move down, left and right\n",
    "    elif i == 0:\n",
    "        state_idx = np.argmax(np.r_[val_function[(i+1, j)], val_function[(i, j+1)],\n",
    "                                    -np.inf, val_function[(i, j-1)]])\n",
    "        \n",
    "    # We can move up, down and right\n",
    "    elif j == 0:\n",
    "        state_idx = np.argmax(np.r_[val_function[(i+1, j)], val_function[(i, j+1)],\n",
    "                                    val_function[(i-1, j)],  -np.inf])\n",
    "        \n",
    "    # We can go up, left and right\n",
    "    elif i == ROWS-1:\n",
    "        state_idx = np.argmax(np.r_[-np.inf, val_function[(i, j+1)],\n",
    "                                    val_function[(i-1, j)], val_function[(i, j-1)]])\n",
    "        \n",
    "    # We can go up, down and left\n",
    "    elif j == COLS-1:\n",
    "        state_idx = np.argmax(np.r_[val_function[(i+1, j)], -np.inf,\n",
    "                                    val_function[(i-1, j)], val_function[(i, j-1)]])\n",
    "\n",
    "    # We can move in all directions\n",
    "    else:\n",
    "        state_idx = np.argmax(np.r_[val_function[(i+1, j)], val_function[(i, j+1)],\n",
    "                                    val_function[(i-1, j)], val_function[(i, j-1)]])\n",
    "                                                           \n",
    "    return next_state[state_idx] "
   ]
  },
  {
   "cell_type": "code",
   "execution_count": 5,
   "metadata": {},
   "outputs": [],
   "source": [
    "def value_iteration(rows, cols, gamma, rewards, epsilon_th=0.1, max_iter=50):\n",
    "    \n",
    "    val_function_past = np.zeros((rows, cols))\n",
    "    val_function = np.zeros((rows, cols))\n",
    "    \n",
    "    it = 0\n",
    "    epsilon = 1e3\n",
    "    stop = False\n",
    "    while it < max_iter and not stop:\n",
    "        for i in reversed(range(0, ROWS)):\n",
    "            for j in reversed(range(0, COLS)):\n",
    "                # We can only move down or right\n",
    "                if i == 0 and j == 0:\n",
    "                    val_function[(i, j)] = gamma*max(val_function[(i+1, j)], val_function[(i, j+1)]) + rewards[i, j]\n",
    "\n",
    "                # End game, no moves\n",
    "                elif i == ROWS-1 and j == COLS-1:\n",
    "                    val_function[(i, j)] = rewards[i, j]\n",
    "\n",
    "                # We can go up and right\n",
    "                elif i == ROWS-1 and j == 0:\n",
    "                    val_function[(i, j)] = gamma*max(val_function[(i-1, j)], val_function[(i, j+1)]) + rewards[i, j]\n",
    "                    \n",
    "                # We can go down and left\n",
    "                elif i == 0 and j == COLS-1:\n",
    "                    val_function[(i, j)] = gamma*max(val_function[(i+1, j)], val_function[(i, j-1)]) + rewards[i, j]\n",
    "                    \n",
    "                # We can move down, left and right\n",
    "                elif i == 0:\n",
    "                    val_function[(i, j)] = gamma*max(val_function[(i+1, j)], val_function[(i, j-1)],\n",
    "                                                     val_function[(i, j+1)]) + rewards[i, j]\n",
    "                    \n",
    "                # We can move up, down and right\n",
    "                elif j == 0:\n",
    "                    val_function[(i, j)] = gamma*max(val_function[(i+1, j)], val_function[(i, j+1)],\n",
    "                                                     val_function[(i-1, j)]) + rewards[i, j]\n",
    "                    \n",
    "                # We can go up, left and right\n",
    "                elif i == ROWS-1:\n",
    "                    val_function[(i, j)] = gamma*max(val_function[(i, j-1)], val_function[(i-1, j)],\n",
    "                                                     val_function[(i, j+1)]) + rewards[i, j]\n",
    "                    \n",
    "                # We can go up, down and left\n",
    "                elif j == COLS-1:\n",
    "                    val_function[(i, j)] = gamma*max(val_function[(i, j-1)], val_function[(i+1, j)],\n",
    "                                                     val_function[(i-1, j)]) + rewards[i, j]\n",
    "                    \n",
    "                # We can move in all directions\n",
    "                else:\n",
    "                    val_function[(i, j)] = gamma*max(val_function[(i+1, j)], val_function[(i, j+1)],\n",
    "                                                     val_function[(i-1, j)], val_function[(i, j-1)]) + rewards[i, j]\n",
    "        \n",
    "        it = it + 1\n",
    "        if np.linalg.norm(val_function - val_function_past) < epsilon_th*(1-gamma)/(2*gamma):\n",
    "            stop = True\n",
    "            \n",
    "        val_function_past = np.copy(val_function)\n",
    "        \n",
    "    return val_function\n",
    "    "
   ]
  },
  {
   "cell_type": "markdown",
   "metadata": {},
   "source": [
    "###  Algorítimo - Value Iteration "
   ]
  },
  {
   "cell_type": "markdown",
   "metadata": {},
   "source": [
    "Diferente da parte anterior agora o a função valor de um estado também dependo dos estados a esquerda e do estado acima, pois essas ações são possívels, isso impede que possamos resolver o problema com backward dynamic programing (há função valor depende também dos valores de trás e estes dos valores da frente). \n",
    "\n",
    "Uma maneira de resolver o problema nessas condições e calcular a função de forma iterativa. \n",
    "\n",
    "Para isso usaremos o algorítmo chamado de Value Iteration que consiste.\n",
    "\n",
    "- 1 - Inicia a função valor com 0 para todos os estados.\n",
    "- 2 - Passar pelos estados calculando o valor da função valor e assumindo que a função valor dos estados vizinhos esta correta.\n",
    "- 3 - Repetir o passo 2 até que a função de todos os estados convirja para um valor.\n",
    "\n",
    "\n",
    "*Mais detalhes no livro: Aproximate Dynamic Programming, Warren B. Powell\n",
    "\n"
   ]
  },
  {
   "cell_type": "code",
   "execution_count": 27,
   "metadata": {},
   "outputs": [],
   "source": [
    "# Initializing empty value function\n",
    "gamma = 0.97\n",
    "val_function = np.zeros((ROWS, COLS))"
   ]
  },
  {
   "cell_type": "code",
   "execution_count": 28,
   "metadata": {},
   "outputs": [],
   "source": [
    "val_function = value_iteration(ROWS, COLS, gamma, rewards, epsilon_th=0.1)"
   ]
  },
  {
   "cell_type": "code",
   "execution_count": 29,
   "metadata": {},
   "outputs": [],
   "source": [
    "state = (3, 0)\n",
    "path = [state]\n",
    "while state != (ROWS-1, COLS-1):\n",
    "    state = get_next_state_given_v_func(state, val_function)\n",
    "    path.append(state)\n",
    "    "
   ]
  },
  {
   "cell_type": "code",
   "execution_count": 30,
   "metadata": {},
   "outputs": [
    {
     "name": "stdout",
     "output_type": "stream",
     "text": [
      "-------------------------------------------------\n",
      "| 0 | 0 | 0 | 0 | 0 | * | 0 | 0 | 0 | 0 | 0 | 0 | \n",
      "-------------------------------------------------\n",
      "| 0 | * | 0 | 0 | 0 | * | 0 | 0 | * | * | 0 | 0 | \n",
      "-------------------------------------------------\n",
      "| 0 | * | 0 | 0 | 0 | 0 | 0 | 0 | 0 | * | 0 | 0 | \n",
      "-------------------------------------------------\n",
      "| S | * | * | * | * | * | * | * | * | * | 0 | P | \n",
      "-------------------------------------------------\n"
     ]
    }
   ],
   "source": [
    "# Plot optimum trajectory\n",
    "for state in path:\n",
    "    cliff_game.setState(state)\n",
    "    cliff_game.show()\n",
    "    time.sleep(0.4)\n",
    "    clear_output(True)\n"
   ]
  },
  {
   "cell_type": "code",
   "execution_count": 31,
   "metadata": {},
   "outputs": [
    {
     "data": {
      "text/plain": [
       "<matplotlib.image.AxesImage at 0x7fc0aa2c3390>"
      ]
     },
     "execution_count": 31,
     "metadata": {},
     "output_type": "execute_result"
    },
    {
     "data": {
      "image/png": "[encoded data removed]",
      "text/plain": [
       "<Figure size 1008x1296 with 2 Axes>"
      ]
     },
     "metadata": {
      "needs_background": "light"
     },
     "output_type": "display_data"
    }
   ],
   "source": [
    "path_highlight = np.copy(rewards)\n",
    "for state in path:\n",
    "    path_highlight[state[0], state[1]] = 1000\n",
    "\n",
    "fig, axs = plt.subplots(1, 2, figsize=(14, 18))\n",
    "axs[0].imshow(rewards)\n",
    "axs[1].imshow(path_highlight)"
   ]
  },
  {
   "cell_type": "markdown",
   "metadata": {},
   "source": [
    "Vemos que o algorítimo foi capaz de calcular uma função valor de modo que transitando para o estado de maior função valor percorremos o caminho ótimo esperado. Vamos verificar graficamente os valores dessa função valor junto com a matriz transição de estado."
   ]
  },
  {
   "cell_type": "code",
   "execution_count": 33,
   "metadata": {},
   "outputs": [],
   "source": [
    "def extract_state_transition_matrix(val_function, get_next_state=None):\n",
    "    # Extract policy transition matrix from value function\n",
    "    policy_transition = np.zeros((ROWS*COLS, ROWS*COLS))\n",
    "    \n",
    "    for i in range(0, ROWS):\n",
    "        for j in range(0, COLS):\n",
    "            if i == ROWS-1 and j == COLS-1:\n",
    "                continue\n",
    "            next_state = get_next_state((i, j), val_function)\n",
    "            policy_transition[i*COLS+j, next_state[0]*COLS+next_state[1]] = 1\n",
    "    \n",
    "    return policy_transition"
   ]
  },
  {
   "cell_type": "code",
   "execution_count": 34,
   "metadata": {},
   "outputs": [],
   "source": [
    "pt = extract_state_transition_matrix(val_function, get_next_state_given_v_func)"
   ]
  },
  {
   "cell_type": "code",
   "execution_count": 36,
   "metadata": {},
   "outputs": [
    {
     "data": {
      "text/plain": [
       "Text(0.5, 1.0, 'Policy from Value Iteration')"
      ]
     },
     "execution_count": 36,
     "metadata": {},
     "output_type": "execute_result"
    },
    {
     "data": {
      "image/png": "[encoded data removed]",
      "text/plain": [
       "<Figure size 720x288 with 2 Axes>"
      ]
     },
     "metadata": {
      "needs_background": "light"
     },
     "output_type": "display_data"
    }
   ],
   "source": [
    "fig, axs = plt.subplots(1, 2, figsize=(10, 4))\n",
    "axs[0].imshow(val.reshape(ROWS, COLS))\n",
    "axs[0].set_title(\"Value function - Value Iteration\")\n",
    "axs[1].imshow(pt)\n",
    "axs[1].set_title(\"Policy from Value Iteration\")"
   ]
  },
  {
   "cell_type": "markdown",
   "metadata": {},
   "source": [
    "###  Algorítimo - Policy Iteration"
   ]
  },
  {
   "cell_type": "markdown",
   "metadata": {},
   "source": [
    "Neste algorítmo trabalhamos diretamente com a política de decisoes adotadas até converjirmos para a política ótima. Para seguimos os seguintes passos.\n",
    "\n",
    "- 1 - Inicia-se com uma política qualquer\n",
    "- 2 - Calcula-se a função valor para a política escolhida (diferente da função valor da política ótima)\n",
    "- 3 - Utiliza-se a função valor para gerar uma nova política, no caso a política otíma gerar pela função valor calculada no método 2.\n",
    "- 4 - Repetimos os passos 2 e 3 até converjirmos para uma política estável.\n"
   ]
  },
  {
   "cell_type": "code",
   "execution_count": 37,
   "metadata": {},
   "outputs": [],
   "source": [
    "pt_init = np.eye(ROWS*COLS, ROWS*COLS)\n",
    "np.random.shuffle(pt_init)"
   ]
  },
  {
   "cell_type": "code",
   "execution_count": 38,
   "metadata": {},
   "outputs": [],
   "source": [
    "def policy_iteration(pt, gamma, rewards, epsilon_th=0.1, max_iter=50):\n",
    "    val_past = np.zeros((ROWS*COLS, 1))\n",
    "    \n",
    "    it = 0\n",
    "    stop = False\n",
    "    while it < max_iter and not stop:\n",
    "        \n",
    "        # Evaluate policy value function\n",
    "        val = np.dot(np.linalg.pinv(np.eye(ROWS*COLS) - gamma*pt), np.reshape(rewards, (ROWS*COLS, 1)))\n",
    "        \n",
    "        # Extract new policy from value function\n",
    "        pt = extract_state_transition_matrix(val_function, get_next_state_given_v_func)\n",
    "                \n",
    "        # Check stop criteria\n",
    "        if np.linalg.norm(val - val_past) < epsilon_th:\n",
    "            stop = True\n",
    "\n",
    "        val_past = np.copy(val)\n",
    "        it = it + 1\n",
    "    \n",
    "    return pt, val\n",
    "        \n",
    "    "
   ]
  },
  {
   "cell_type": "code",
   "execution_count": 41,
   "metadata": {},
   "outputs": [],
   "source": [
    "# Política final e última função valor calculada\n",
    "pt, val = policy_iteration(pt, gamma, rewards)"
   ]
  },
  {
   "cell_type": "code",
   "execution_count": 40,
   "metadata": {},
   "outputs": [
    {
     "data": {
      "text/plain": [
       "Text(0.5, 1.0, 'Value function calculated by policy iteration')"
      ]
     },
     "execution_count": 40,
     "metadata": {},
     "output_type": "execute_result"
    },
    {
     "data": {
      "image/png": "[encoded data removed]",
      "text/plain": [
       "<Figure size 432x288 with 1 Axes>"
      ]
     },
     "metadata": {
      "needs_background": "light"
     },
     "output_type": "display_data"
    }
   ],
   "source": [
    "plt.imshow(val.reshape(ROWS, COLS))\n",
    "plt.title(\"Value function calculated by policy iteration\")"
   ]
  },
  {
   "cell_type": "markdown",
   "metadata": {},
   "source": [
    "Vemos que a última função valor calculada foi exatamente a mesma obtida pelo método Value Iteration.  Vejamos por fim a política inicial e política de final."
   ]
  },
  {
   "cell_type": "code",
   "execution_count": 20,
   "metadata": {},
   "outputs": [
    {
     "data": {
      "text/plain": [
       "Text(0.5, 1.0, 'Calculated policy state transition matrix')"
      ]
     },
     "execution_count": 20,
     "metadata": {},
     "output_type": "execute_result"
    },
    {
     "data": {
      "image/png": "[encoded data removed]",
      "text/plain": [
       "<Figure size 720x864 with 2 Axes>"
      ]
     },
     "metadata": {
      "needs_background": "light"
     },
     "output_type": "display_data"
    }
   ],
   "source": [
    "fig, axs = plt.subplots(1, 2, figsize=(10, 12))\n",
    "axs[0].imshow(pt_init)\n",
    "axs[0].set_title(\"Initial policy state transition matrix\")\n",
    "axs[1].imshow(pt)\n",
    "axs[1].set_title(\"Calculated policy state transition matrix\")"
   ]
  }
 ],
 "metadata": {
  "kernelspec": {
   "display_name": "Python 3",
   "language": "python",
   "name": "python3"
  },
  "language_info": {
   "codemirror_mode": {
    "name": "ipython",
    "version": 3
   },
   "file_extension": ".py",
   "mimetype": "text/x-python",
   "name": "python",
   "nbconvert_exporter": "python",
   "pygments_lexer": "ipython3",
   "version": "3.7.6"
  }
 },
 "nbformat": 4,
 "nbformat_minor": 4
}
