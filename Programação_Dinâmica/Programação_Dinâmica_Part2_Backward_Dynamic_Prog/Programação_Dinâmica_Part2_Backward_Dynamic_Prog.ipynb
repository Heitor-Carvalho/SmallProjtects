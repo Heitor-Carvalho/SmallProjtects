{
 "cells": [
  {
   "cell_type": "markdown",
   "metadata": {},
   "source": [
    "### Sumário\n",
    "\n",
    "- Simplificando o problema\n",
    "- Backward Dynamic Programing (Top-down and Botton-up)\n",
    "- Extraindo a política otima\n",
    "- Calculando a função valor a partir de uma política"
   ]
  },
  {
   "cell_type": "markdown",
   "metadata": {},
   "source": [
    "### Simplificando o problema"
   ]
  },
  {
   "cell_type": "code",
   "execution_count": 1,
   "metadata": {},
   "outputs": [],
   "source": [
    "import numpy as np\n",
    "import time\n",
    "import cliff\n",
    "import matplotlib.pyplot as plt\n",
    "from IPython.display import clear_output"
   ]
  },
  {
   "cell_type": "markdown",
   "metadata": {},
   "source": [
    "Neste seção vamos adicionar mais uma restrição ao nosso problema limitando o conjunto de ações possíveis que podem ser tomadas, essa restrição nos permitirá resolver a equação de Belman de forma exata sem a necessidade de fazer diversas iterações. \n",
    "\n",
    "Para o caso analisado vamos assumir que o agente só pode se move para direita e para baixo.\n",
    "\n",
    "A = {\"right\", \"down\"}\n",
    "\n",
    "Recapitulando o cenário do problema:"
   ]
  },
  {
   "cell_type": "code",
   "execution_count": 2,
   "metadata": {},
   "outputs": [
    {
     "name": "stdout",
     "output_type": "stream",
     "text": [
      "-------------------------------------------------\n",
      "| P | 0 | 0 | 0 | 0 | * | 0 | 0 | 0 | 0 | 0 | 0 | \n",
      "-------------------------------------------------\n",
      "| * | * | * | 0 | 0 | * | 0 | 0 | * | * | 0 | 0 | \n",
      "-------------------------------------------------\n",
      "| * | * | 0 | 0 | 0 | 0 | 0 | 0 | 0 | 0 | 0 | 0 | \n",
      "-------------------------------------------------\n",
      "| * | * | * | * | * | * | * | * | * | * | 0 | G | \n",
      "-------------------------------------------------\n"
     ]
    },
    {
     "data": {
      "text/plain": [
       "<matplotlib.image.AxesImage at 0x7ff80affbbd0>"
      ]
     },
     "execution_count": 2,
     "metadata": {},
     "output_type": "execute_result"
    },
    {
     "data": {
      "image/png": "[encoded data removed]",
      "text/plain": [
       "<Figure size 432x288 with 1 Axes>"
      ]
     },
     "metadata": {
      "needs_background": "light"
     },
     "output_type": "display_data"
    }
   ],
   "source": [
    "ROWS  = 4\n",
    "COLS  = 12\n",
    "START = (0, 0)\n",
    "GOAL  = (3, 11)\n",
    "\n",
    "OBSTACLE = [(3, 1), (3, 2), (3, 3), (3, 4), (3, 5), (3, 6), (3, 7), (3,8), (2, 1), (1, 1),\n",
    "            (1, 0), (1, 2), (2, 0), (3, 0), (0, 5), (1, 8), (3, 9), (1, 9), (1, 5)]\n",
    "\n",
    "cliff_game = cliff.Cliff(START, GOAL, ROWS, COLS, OBSTACLE)\n",
    "cliff_game.show()\n",
    "\n",
    "\n",
    "rewards = np.zeros((ROWS, COLS))\n",
    "for i in range(0, ROWS):\n",
    "    for j in range(0, COLS):\n",
    "        rewards[i, j] = cliff_game.getReward((i,j))\n",
    "        \n",
    "plt.imshow(rewards/np.max(rewards))\n"
   ]
  },
  {
   "cell_type": "markdown",
   "metadata": {},
   "source": [
    "### Backward Dynamic Programing (Top-down and Botton-up)"
   ]
  },
  {
   "cell_type": "markdown",
   "metadata": {},
   "source": [
    "Como vemos na equação de Belman a função valor no instante $t$ dependo da função valor no instante $t+1$. \n",
    "\n",
    "$V_t(S_t) = max(R(S_t) + \\gamma V_{t+1}(S_{t+1}))$\n",
    "\n",
    "Como no nosso caso mudaremos de estado até o estado final onde chegamos no estado alvo (3, 11) e nesse estado não faremos mais transições terminando um episódio do jogo. Assim a função valor desse estado é conhecida e igual ao valor da recompensa.\n",
    "\n",
    "$V((3 ,11)) = R((3, 11)) = 1000$\n",
    "\n",
    "Graças a nova restrição adicionada so podemos chegar a esse estado vindo dos estados (2, 11) e (3, 10), desse modo podemos calcular a função desses estados e em seguidas dos estados acima e a esqueda desses até chegarmos no estado de partida (0,0).\n",
    "\n",
    "Ou seja resolvemos o problema partindo do final e voltando para o inicio e assim calculando a função valor para cada estado."
   ]
  },
  {
   "cell_type": "markdown",
   "metadata": {},
   "source": [
    "Esse cálculo pode ser implementado de duas maneiras diferentes chamadas de Top-down e Botton-up).\n",
    "\n",
    "- Top-down: Nesta abordagem começa-se calculando a função valor do estado inicial (0, 0) que dependo da função valor dos estados (1, 0) e (0, 1) que dependem de outros estados futuros até chegar no estado (3, 11) a qual conhecemos a função valor. Assim vamos calculando a função valor de forma recursiva até atingir o estado final e voltamos preenchendo o valor para os outros estados até chegar no estado inicial.\n",
    "\n",
    "\n",
    "- Botton-up: Nesta abordagem inicia-se com o calculo da função do estado final (3 , 11), em seguida se calcula a função valor dos seus estados vizinhos até chegar ao estado inicial. Ou seja, vamos preenchendo a função valor do estado final para o inicial.\n",
    "\n",
    "Veriquemos as duas implementações e as funções valor calculadas."
   ]
  },
  {
   "cell_type": "code",
   "execution_count": 3,
   "metadata": {},
   "outputs": [],
   "source": [
    "# Top-down solution\n",
    "val_cached = dict()\n",
    "def get_value(coord):\n",
    "    if coord in val_cached:\n",
    "        return val_cached[coord]\n",
    "    \n",
    "    coord_down = (coord[0]+1, coord[1])\n",
    "    coord_right = (coord[0], coord[1]+1)\n",
    "    \n",
    "    # No more moves allowed, V(state) = Reward(s)\n",
    "    if coord[0]+1 >= ROWS and coord[1]+1 >= COLS:\n",
    "        val = rewards[coord[0], coord[1]]\n",
    "    # Can only move right , V(state) = V(right) + Rewared(s)\n",
    "    elif coord[0]+1 >= ROWS:\n",
    "        val = get_value(coord_right) + rewards[coord[0], coord[1]]\n",
    "    # Can only move down , V(state) = V(down) + Rewared(s)\n",
    "    elif coord[1]+1 >= COLS:\n",
    "        val = get_value(coord_down) + rewards[coord[0], coord[1]]\n",
    "    # We can move down or right\n",
    "    else:\n",
    "        val_down  = get_value(coord_down)\n",
    "        val_right = get_value(coord_right) \n",
    "        val = max(val_down, val_right) + rewards[coord[0], coord[1]]\n",
    "    \n",
    "    val_cached[coord] = val\n",
    "    return val\n",
    "        \n",
    "def calculate_v_function_top_botton():\n",
    "    get_value((0,0))\n",
    "    return val_cached\n",
    "    "
   ]
  },
  {
   "cell_type": "code",
   "execution_count": 4,
   "metadata": {},
   "outputs": [],
   "source": [
    "# Botton-up solution\n",
    "def calculate_v_function_botton_up():\n",
    "    val_function = dict()\n",
    "    \n",
    "    for i in reversed(range(0, ROWS)):\n",
    "        for j in reversed(range(0, COLS)):\n",
    "            if i == ROWS-1 and j == COLS-1:\n",
    "                # No more moves avaliable\n",
    "                val_function[(i, j)] = rewards[i, j]\n",
    "            elif i == ROWS-1:\n",
    "                # We can only move right\n",
    "                val_function[(i, j)] = val_function[(i, j+1)] + rewards[i, j]\n",
    "            elif j == COLS-1:\n",
    "                # We can only move down\n",
    "                val_function[(i, j)] = val_function[(i+1, j)] + rewards[i, j]\n",
    "            else:\n",
    "                # We can move right and down\n",
    "                val_function[(i, j)] = max(val_function[(i+1, j)], val_function[(i, j+1)]) + rewards[i, j]\n",
    "    \n",
    "    return val_function\n",
    "    "
   ]
  },
  {
   "cell_type": "code",
   "execution_count": 5,
   "metadata": {},
   "outputs": [],
   "source": [
    "def convert_vfunc_from_dict_to_arr(v_func_dict):\n",
    "    # Convert dict value function to matriz format\n",
    "    v_func_arr = np.zeros((ROWS, COLS))\n",
    "    for ((i, j), val) in v_func_dict.items():\n",
    "       v_func_arr[i, j] = val\n",
    "    \n",
    "    return v_func_arr"
   ]
  },
  {
   "cell_type": "code",
   "execution_count": 6,
   "metadata": {},
   "outputs": [],
   "source": [
    "v_func_b_up = calculate_v_function_botton_up()\n",
    "v_func_top_b = calculate_v_function_top_botton()"
   ]
  },
  {
   "cell_type": "code",
   "execution_count": 7,
   "metadata": {},
   "outputs": [],
   "source": [
    "v_func_arr_b_up = convert_vfunc_from_dict_to_arr(v_func_b_up)\n",
    "v_func_arr_top_b = convert_vfunc_from_dict_to_arr(v_func_top_b)"
   ]
  },
  {
   "cell_type": "code",
   "execution_count": 8,
   "metadata": {},
   "outputs": [
    {
     "data": {
      "text/plain": [
       "Text(0.5, 1.0, 'Value Function - Top Botton')"
      ]
     },
     "execution_count": 8,
     "metadata": {},
     "output_type": "execute_result"
    },
    {
     "data": {
      "image/png": "[encoded data removed]",
      "text/plain": [
       "<Figure size 864x576 with 2 Axes>"
      ]
     },
     "metadata": {
      "needs_background": "light"
     },
     "output_type": "display_data"
    }
   ],
   "source": [
    "fig, axs = plt.subplots(1, 2, figsize=(12, 8))\n",
    "axs[0].imshow(v_func_arr_b_up)\n",
    "axs[0].set_title(\"Value Function - Botton Up\")\n",
    "axs[1].imshow(v_func_arr_top_b)\n",
    "axs[1].set_title(\"Value Function - Top Botton\")"
   ]
  },
  {
   "cell_type": "markdown",
   "metadata": {},
   "source": [
    "Podemos ver que a função valor calculada por ambos os métodos apresentam os mesmos valores e que ela é mais negativa nos estados marcados por *. Esses valores são esperado pois navegar por esses estados adiciona recompensas negativas diminuindo o valor de estar nesse estado."
   ]
  },
  {
   "cell_type": "markdown",
   "metadata": {},
   "source": [
    "### Extraindo a política ótima"
   ]
  },
  {
   "cell_type": "markdown",
   "metadata": {},
   "source": [
    "Vamos agora extrair a sequência ótima de estados que máximiza a acúmulo de recompensas como dado pela equação:\n",
    "\n",
    "$ J(\\pi(S)) = \\Sigma_{0}^{T}\\gamma^tR(S_t, a_\\pi)$\n",
    "\n",
    "Para calcular a sequência de estados, basta escolher como próximo estado aquele que satisfaz a equação:\n",
    "\n",
    "$argmax_{S_{t+1}}{V(S_{t+1})}$\n"
   ]
  },
  {
   "cell_type": "code",
   "execution_count": 9,
   "metadata": {},
   "outputs": [],
   "source": [
    "def get_next_state_given_v_func(state, v_func):\n",
    "    state_right = (state[0], state[1]+1)\n",
    "    state_down = (state[0]+1, state[1])\n",
    "    \n",
    "    # No more moves allowed\n",
    "    if state[0]+1 >= ROWS and state[1]+1 >= COLS:\n",
    "        return state\n",
    "    elif state[0]+1 >= ROWS:\n",
    "        state = state_right\n",
    "        return state\n",
    "    elif state[1]+1 >= COLS:\n",
    "        state = state_down\n",
    "        return state\n",
    "        \n",
    "    val_right = v_func[state_right]\n",
    "    val_down = v_func[state_down]\n",
    "    if val_down > val_right:\n",
    "        state = state_down\n",
    "    else:\n",
    "        state = state_right\n",
    "        \n",
    "    return state\n",
    "        "
   ]
  },
  {
   "cell_type": "code",
   "execution_count": 10,
   "metadata": {},
   "outputs": [],
   "source": [
    "state = (0, 0)\n",
    "path = [state]\n",
    "while state != (ROWS-1, COLS-1):\n",
    "    state = get_next_state_given_v_func(state, v_func_arr_top_b)\n",
    "    path.append(state)"
   ]
  },
  {
   "cell_type": "code",
   "execution_count": 11,
   "metadata": {},
   "outputs": [
    {
     "data": {
      "text/plain": [
       "array([[ 0,  0,  0,  0,  0,  1,  2,  2,  2,  2,  2,  2,  2,  2,  3],\n",
       "       [ 0,  1,  2,  3,  4,  4,  4,  5,  6,  7,  8,  9, 10, 11, 11]])"
      ]
     },
     "execution_count": 11,
     "metadata": {},
     "output_type": "execute_result"
    }
   ],
   "source": [
    "np.array(path).T"
   ]
  },
  {
   "cell_type": "code",
   "execution_count": 12,
   "metadata": {},
   "outputs": [
    {
     "name": "stdout",
     "output_type": "stream",
     "text": [
      "-------------------------------------------------\n",
      "| S | 0 | 0 | 0 | 0 | * | 0 | 0 | 0 | 0 | 0 | 0 | \n",
      "-------------------------------------------------\n",
      "| * | * | * | 0 | 0 | * | 0 | 0 | * | * | 0 | 0 | \n",
      "-------------------------------------------------\n",
      "| * | * | 0 | 0 | 0 | 0 | 0 | 0 | 0 | 0 | 0 | 0 | \n",
      "-------------------------------------------------\n",
      "| * | * | * | * | * | * | * | * | * | * | 0 | P | \n",
      "-------------------------------------------------\n"
     ]
    }
   ],
   "source": [
    "for state in path:\n",
    "    cliff_game.setState(state)\n",
    "    cliff_game.show()\n",
    "    time.sleep(0.25)\n",
    "    clear_output(True)\n"
   ]
  },
  {
   "cell_type": "code",
   "execution_count": 13,
   "metadata": {},
   "outputs": [
    {
     "data": {
      "text/plain": [
       "Text(0.5, 1.0, 'Optimal path highlight')"
      ]
     },
     "execution_count": 13,
     "metadata": {},
     "output_type": "execute_result"
    },
    {
     "data": {
      "image/png": "[encoded data removed]",
      "text/plain": [
       "<Figure size 1008x1296 with 2 Axes>"
      ]
     },
     "metadata": {
      "needs_background": "light"
     },
     "output_type": "display_data"
    }
   ],
   "source": [
    "path_highlight = np.copy(rewards)\n",
    "for state in path:\n",
    "    path_highlight[state[0], state[1]] = 1000\n",
    "\n",
    "fig, axs = plt.subplots(1, 2, figsize=(14, 18))\n",
    "axs[0].imshow(rewards)\n",
    "axs[0].set_title(\"Map reward\")\n",
    "axs[1].imshow(path_highlight)\n",
    "axs[1].set_title(\"Optimal path highlight\")"
   ]
  },
  {
   "cell_type": "code",
   "execution_count": 14,
   "metadata": {},
   "outputs": [],
   "source": [
    "def extract_state_transition_matrix(val_function, get_next_state=None):\n",
    "    # Extract policy transition matrix from value function\n",
    "    policy_transition = np.zeros((ROWS*COLS, ROWS*COLS))\n",
    "    \n",
    "    for i in range(0, ROWS):\n",
    "        for j in range(0, COLS):\n",
    "            if i == ROWS-1 and j == COLS-1:\n",
    "                continue\n",
    "            next_state = get_next_state((i, j), val_function)\n",
    "            policy_transition[i*COLS+j, next_state[0]*COLS+next_state[1]] = 1\n",
    "    \n",
    "    return policy_transition"
   ]
  },
  {
   "cell_type": "markdown",
   "metadata": {},
   "source": [
    "Podemos ver a politica para todos os estados olhando a matriz transição de estado on cada linha corresponde ao estado original e cada coluna corresponde a estado seguinte. Os estados são colocados em um array de uma dimensão seguindo o mapeamento.\n",
    "\n",
    "(i, j) -> i*COLS + j\n",
    "\n",
    "Para a função valor calculada temos:"
   ]
  },
  {
   "cell_type": "code",
   "execution_count": 15,
   "metadata": {},
   "outputs": [],
   "source": [
    "gamma = 1\n",
    "state_transition = extract_state_transition_matrix(v_func_b_up, get_next_state_given_v_func)"
   ]
  },
  {
   "cell_type": "code",
   "execution_count": 16,
   "metadata": {},
   "outputs": [
    {
     "data": {
      "text/plain": [
       "Text(0.5, 1.0, 'State transition matrix of optimum policy')"
      ]
     },
     "execution_count": 16,
     "metadata": {},
     "output_type": "execute_result"
    },
    {
     "data": {
      "image/png": "[encoded data removed]",
      "text/plain": [
       "<Figure size 432x288 with 1 Axes>"
      ]
     },
     "metadata": {
      "needs_background": "light"
     },
     "output_type": "display_data"
    }
   ],
   "source": [
    "plt.imshow(state_transition)\n",
    "plt.title(\"State transition matrix of optimum policy\")"
   ]
  },
  {
   "cell_type": "markdown",
   "metadata": {},
   "source": [
    "### Calculando a função valor a partir de uma política"
   ]
  },
  {
   "cell_type": "markdown",
   "metadata": {},
   "source": [
    "Por fim, vamos fazer o processo inverso, primeiro vamos definir a politica representada através da matriz de transação de estados e calcular a função valor corresponte. No caso, a função valor pode ser calculada resolvendo um sistem N equações com N incognitas, onde N é número de estado do sistema (3*12 = 48).\n",
    "\n",
    "$\\bar{V_s} = \\bar{R_{V_s}} + \\gamma T .\\bar{V_{s+1}}$\n",
    "\n",
    "Onde T é a matriz de transação de estados definida pela política escolhida.\n",
    "\n",
    "*Lembrando que cada política resultará em uma função valor diferente. "
   ]
  },
  {
   "cell_type": "markdown",
   "metadata": {},
   "source": [
    "Por exemplo, vamos primeiro calcular a função valor da política ótima e verificar se recuperamos a função valor calculada anteriormente."
   ]
  },
  {
   "cell_type": "code",
   "execution_count": 17,
   "metadata": {},
   "outputs": [],
   "source": [
    "gamma = 1\n",
    "state_transition = extract_state_transition_matrix(v_func_top_b, get_next_state_given_v_func)\n",
    "val = np.dot(np.linalg.pinv(np.eye(ROWS*COLS) - gamma*state_transition), np.reshape(rewards, (ROWS*COLS, 1)))"
   ]
  },
  {
   "cell_type": "code",
   "execution_count": 18,
   "metadata": {},
   "outputs": [
    {
     "data": {
      "text/plain": [
       "Text(0.5, 1.0, 'Value Function calculated from the optimum policy')"
      ]
     },
     "execution_count": 18,
     "metadata": {},
     "output_type": "execute_result"
    },
    {
     "data": {
      "image/png": "[encoded data removed]",
      "text/plain": [
       "<Figure size 432x288 with 1 Axes>"
      ]
     },
     "metadata": {
      "needs_background": "light"
     },
     "output_type": "display_data"
    }
   ],
   "source": [
    "plt.imshow(val.reshape(ROWS, COLS))\n",
    "plt.title(\"Value Function calculated from the optimum policy\")"
   ]
  },
  {
   "cell_type": "markdown",
   "metadata": {},
   "source": [
    "Agora vamos criar uma política na qual sempre nos mantemos no mesmo estado, nesse caso a função valor será igual a recompensa do sistema."
   ]
  },
  {
   "cell_type": "code",
   "execution_count": 19,
   "metadata": {},
   "outputs": [],
   "source": [
    "gamma = 0.999\n",
    "state_transition = np.eye(ROWS*COLS)\n",
    "val = np.dot(np.linalg.pinv(np.eye(ROWS*COLS) - gamma*state_transition), np.reshape(rewards, (ROWS*COLS, 1)))"
   ]
  },
  {
   "cell_type": "code",
   "execution_count": 20,
   "metadata": {},
   "outputs": [
    {
     "data": {
      "text/plain": [
       "Text(0.5, 1.0, 'Value function')"
      ]
     },
     "execution_count": 20,
     "metadata": {},
     "output_type": "execute_result"
    },
    {
     "data": {
      "image/png": "[encoded data removed]",
      "text/plain": [
       "<Figure size 720x576 with 2 Axes>"
      ]
     },
     "metadata": {
      "needs_background": "light"
     },
     "output_type": "display_data"
    }
   ],
   "source": [
    "fig, axs = plt.subplots(1, 2, figsize=(10, 8))\n",
    "axs[0].imshow(state_transition)\n",
    "axs[0].set_title(\"State transition matrix no move policy\")\n",
    "axs[1].imshow(val.reshape(ROWS, COLS))\n",
    "axs[1].set_title(\"Value function\")"
   ]
  }
 ],
 "metadata": {
  "kernelspec": {
   "display_name": "Python 3",
   "language": "python",
   "name": "python3"
  },
  "language_info": {
   "codemirror_mode": {
    "name": "ipython",
    "version": 3
   },
   "file_extension": ".py",
   "mimetype": "text/x-python",
   "name": "python",
   "nbconvert_exporter": "python",
   "pygments_lexer": "ipython3",
   "version": "3.7.6"
  }
 },
 "nbformat": 4,
 "nbformat_minor": 4
}
