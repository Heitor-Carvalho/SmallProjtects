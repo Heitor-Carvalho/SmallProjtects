{
 "cells": [
  {
   "cell_type": "markdown",
   "metadata": {},
   "source": [
    "### Sumário\n",
    "\n",
    "- Estados, Recompensas e ações\n",
    "- Maximizando as recompensas\n",
    "- Funçao valor e policy (politica de decisões)"
   ]
  },
  {
   "cell_type": "code",
   "execution_count": 46,
   "metadata": {},
   "outputs": [],
   "source": [
    "import numpy as np\n",
    "import time\n",
    "import cliff\n",
    "import matplotlib.pyplot as plt\n",
    "from IPython.display import clear_output"
   ]
  },
  {
   "cell_type": "markdown",
   "metadata": {},
   "source": [
    "### Estados, Recompensas e ações"
   ]
  },
  {
   "cell_type": "markdown",
   "metadata": {},
   "source": [
    "Para inicinarmos a discussção sobre programação dinâmica vamos esclarecer alguns conceitos basicos como estados, recompensas e açoes.\n",
    "\n",
    "- **State**: Conjunto de informações suficientes para definir exatamente o sistema.\n",
    "- **Recompensas**: Ganho ou prejuizo obtido ao transitar de um estado para outro ou de estar em um estado e tomar um determinada ação.\n",
    "- **Ações**: Decição tomada dentre as possívels para provovar uma mudança de estado.\n",
    "\n",
    "Para ilustrar esses conceitos vamos usar o seguinte exemplo de um jogo bem simples, onde o objetico é navegar em um mapa 2D evitando determinados espaços.\n"
   ]
  },
  {
   "cell_type": "code",
   "execution_count": 47,
   "metadata": {},
   "outputs": [
    {
     "name": "stdout",
     "output_type": "stream",
     "text": [
      "-------------------------------------------------\n",
      "| P | 0 | 0 | 0 | 0 | * | 0 | 0 | 0 | 0 | 0 | 0 | \n",
      "-------------------------------------------------\n",
      "| * | * | * | 0 | 0 | * | 0 | 0 | * | * | 0 | 0 | \n",
      "-------------------------------------------------\n",
      "| * | * | 0 | 0 | 0 | 0 | 0 | 0 | 0 | 0 | 0 | 0 | \n",
      "-------------------------------------------------\n",
      "| * | * | * | * | * | * | * | * | * | * | 0 | G | \n",
      "-------------------------------------------------\n"
     ]
    },
    {
     "data": {
      "text/plain": [
       "<matplotlib.image.AxesImage at 0x7f191a9a1950>"
      ]
     },
     "execution_count": 47,
     "metadata": {},
     "output_type": "execute_result"
    },
    {
     "data": {
      "image/png": "[encoded data removed]",
      "text/plain": [
       "<Figure size 432x288 with 1 Axes>"
      ]
     },
     "metadata": {
      "needs_background": "light"
     },
     "output_type": "display_data"
    }
   ],
   "source": [
    "ROWS  = 4\n",
    "COLS  = 12\n",
    "START = (0, 0)\n",
    "GOAL  = (3, 11)\n",
    "\n",
    "OBSTACLE = [(3, 1), (3, 2), (3, 3), (3, 4), (3, 5), (3, 6), (3, 7), (3,8), (2, 1), (1, 1),\n",
    "            (1, 0), (1, 2), (2, 0), (3, 0), (0, 5), (1, 8), (3, 9), (1, 9), (1, 5)]\n",
    "\n",
    "cliff_game = cliff.Cliff(START, GOAL, ROWS, COLS, OBSTACLE)\n",
    "cliff_game.show()\n",
    "\n",
    "\n",
    "rewards = np.zeros((ROWS, COLS))\n",
    "for i in range(0, ROWS):\n",
    "    for j in range(0, COLS):\n",
    "        rewards[i, j] = cliff_game.getReward((i,j))\n",
    "        \n",
    "plt.imshow(rewards/np.max(rewards))\n"
   ]
  },
  {
   "cell_type": "markdown",
   "metadata": {},
   "source": [
    "O jogo consiste em começar nas coordenadas (0,0) e ir  ate o ponto em amarelo (3, 11). Os pontos azul escuro determinam pontos de passagem onde ha um custo maior para se mover, de modo que o melhor caminho será obitdo evitando esses pontos.\n",
    "\n",
    "Neste jogo o estado pode ser definido simplesmente pela coordenada do estado presente ou seja os estados possíveis são:\n",
    "\n",
    "s $\\epsilon$ S = {(i, j) in [[0 , 3], [0, 11]]}\n",
    "\n",
    "As ações possívels podem ser:\n",
    "\n",
    "a $\\epsilon$ A = {\"up\", \"down\", \"left\", \"right\"}\n",
    "\n",
    "Com exceções nas bordas, pois não é possível sair para forar do mapa.\n",
    "\n",
    "As recompensas pare este jogo são definidas como:\n",
    "\n",
    "$R(S_t, a_t) = R(S_t, S_{t+1}) = R(S_t)$\n",
    "\n",
    "Ou seja, as recompesas só dependem do estado em que estamos no instante $t$ e são dados por:\n",
    "\n",
    "- 0 - Se estamos no estado inicial\n",
    "- -2 - Se estamos num estado comum (indicado por 0)\n",
    "- -1000 Se estamos num estado marcado por *\n",
    "- +1000 - Se estamos nos estado final (indicado por G)\n",
    "\n",
    "\n",
    "\n",
    "\n"
   ]
  },
  {
   "cell_type": "markdown",
   "metadata": {},
   "source": [
    "### Escolhendo uma políica - maximizando recompensas"
   ]
  },
  {
   "cell_type": "markdown",
   "metadata": {},
   "source": [
    "Na proximação dinâmica agimos sobre o sistema de acordo com uma politica, ou regra de controle.  Encontrar uma política consiste em encontrar uma mapeamente entre estado e ação para cada estado possível.\n",
    "\n",
    "$\\pi(S_t) = a_{\\pi}$,  para cada $S_t$ $\\epsilon$ S\n",
    "\n",
    "Normalmente não estamos interessados em qualquer politica, mas sim na politica que maximiza nossas recompensas ao longo do caminho. Esse objetivo pode ser expresso através da seguinte equação:\n",
    "\n",
    "$ J(\\pi(S)) = \\Sigma_{0}^{T}\\gamma^tR(S_t, a_\\pi)$\n",
    "\n",
    "$max\\{J(S)\\} = max\\{\\Sigma_{0}^{T}\\gamma^tR(S_t, a_t)\\}$\n",
    "\n",
    "Com isso, temos o problema de otimização de encontrar a politica que maximiza a função custo acima dada as restrições de transição de estados do sistema, a função recompensa e a ações possíveis.\n"
   ]
  },
  {
   "cell_type": "markdown",
   "metadata": {},
   "source": [
    "Exemplo, podemos avaliar a função custo politica que não ótima onde damos 11 passos para a esquerda e 3 para baixo. Esta política nos leva ao objetivo final do trajeto, porém não otimiza a função custo ao passar pelo espaço marcado por *."
   ]
  },
  {
   "cell_type": "code",
   "execution_count": 58,
   "metadata": {},
   "outputs": [
    {
     "name": "stdout",
     "output_type": "stream",
     "text": [
      "-------------------------------------------------\n",
      "| S | 0 | 0 | 0 | 0 | * | 0 | 0 | 0 | 0 | 0 | 0 | \n",
      "-------------------------------------------------\n",
      "| * | * | * | 0 | 0 | * | 0 | 0 | * | * | 0 | 0 | \n",
      "-------------------------------------------------\n",
      "| * | * | 0 | 0 | 0 | 0 | 0 | 0 | 0 | 0 | 0 | 0 | \n",
      "-------------------------------------------------\n",
      "| * | * | * | * | * | * | * | * | * | * | 0 | P | \n",
      "-------------------------------------------------\n",
      "Total Reward: 1000\n"
     ]
    }
   ],
   "source": [
    "cliff_game.reset()\n",
    "total_reward = 0\n",
    "for i in range(0, 11):\n",
    "    _, reward = cliff_game.transition(\"right\")\n",
    "    total_reward += reward\n",
    "    cliff_game.show()\n",
    "    time.sleep(0.25)\n",
    "    clear_output(True)\n",
    "for i in range(0, 3):\n",
    "    _, reward = cliff_game.transition(\"down\")\n",
    "    total_reward += reward\n",
    "    cliff_game.show()\n",
    "    time.sleep(0.25)\n",
    "    if i != 2:\n",
    "      clear_output(True)\n",
    "\n",
    "print(\"Total Reward: {}\".format(reward))"
   ]
  },
  {
   "cell_type": "markdown",
   "metadata": {},
   "source": [
    "### Funçao valor e a equação de Bellman"
   ]
  },
  {
   "cell_type": "markdown",
   "metadata": {},
   "source": [
    "Podemos simplificar o problema de otimização acima pensando na decisão a ser tomada a cada passo. Para iso, definimos a função valor como:\n",
    "\n",
    "$V(S_t) = max\\{\\Sigma_{t}^{T}\\gamma^tR(S_t)\\}$\n",
    "\n",
    "Ou seja, a sometória das recompensas do estado atual até o estado final seguindo uma determinada política, a partir dessa definição podemos relacionar o a função valor de um estado no instante $t$ com o instante $t+1$.\n",
    "\n",
    "$V_t(S_t) = max(R(S_t) + \\gamma V_{t+1}(S_{t+1}))$ - Bellman equation\n",
    "\n",
    "E política otíma pode ser encontrar a partir da função valor através de:\n",
    "\n",
    "$\\pi^* = argmax_{a_t}{(R(S_t) + \\gamma V_{t+1}(S_{t+1}))}$\n",
    "\n",
    "\n",
    "Vemos na equação que a função valor de um estado depende da função valor do estado futuro, o que dificulta a solução do problema de otimização e cálculo da política otíma. \n",
    "\n",
    "\n",
    "Nas próximas partes veremos diferentes formas de resolver esse problema para o exemplo apresentado e algumas variantes."
   ]
  }
 ],
 "metadata": {
  "kernelspec": {
   "display_name": "Python 3",
   "language": "python",
   "name": "python3"
  },
  "language_info": {
   "codemirror_mode": {
    "name": "ipython",
    "version": 3
   },
   "file_extension": ".py",
   "mimetype": "text/x-python",
   "name": "python",
   "nbconvert_exporter": "python",
   "pygments_lexer": "ipython3",
   "version": "3.7.6"
  }
 },
 "nbformat": 4,
 "nbformat_minor": 4
}
