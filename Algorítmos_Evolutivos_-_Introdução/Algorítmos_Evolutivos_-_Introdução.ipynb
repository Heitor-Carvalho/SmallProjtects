{
 "cells": [
  {
   "cell_type": "markdown",
   "metadata": {},
   "source": [
    "### Sumário\n",
    "\n",
    "- Introdução\n",
    "- Etapas algorítmos evolutivos\n",
    "- Etapas algorítmos evolutivos - Otimização\n",
    "- Classes de algorítmos evolutivos\n",
    "- Conclusão"
   ]
  },
  {
   "cell_type": "markdown",
   "metadata": {},
   "source": [
    "### Introdução"
   ]
  },
  {
   "cell_type": "markdown",
   "metadata": {},
   "source": [
    "Hoje discutiremos as ideias básicas usadas pelos algorítmos evolutivos.\n",
    "\n",
    "Como o nome sugere esta classe de algorítmos se basea nas ideias da teoria de evolução Neo-Darwiniana e tentam reproduzir o processo de evolução para resolver problemas de otimização, encontrando soluções melhor adaptadas (mais próximo do ótimo) a cada iteração.\n",
    "\n",
    "Embora tenhamos um grande número de algorítmos de otimização, os algorítmos evolutivos podem em alguns contextos atacar de maneira melhor problemas de otimização que algorítmos tradicionais de otimização tem dificuldades.\n",
    "\n",
    "Para começarmos a discussão vamos neste tópico somente apresentar as idéias básicas dos algorítmos evolutivos. \n"
   ]
  },
  {
   "cell_type": "markdown",
   "metadata": {},
   "source": [
    "### Etapas algorítmos evolutivos"
   ]
  },
  {
   "cell_type": "markdown",
   "metadata": {},
   "source": [
    "Tendo por base a teoria neo-Darwiniana da evolução, é possível propor um\n",
    "algoritmo evolutivo básico ou padrão com as seguintes características:\n",
    "\n",
    "- Uma população de candidatos à solução (denominados indivíduos ou cromossomos) que se reproduzem com herança genética: cada indivíduo corresponde a uma estrutura de dados que representa ou codifica um ponto em um espaço de busca.\n",
    "- Esses indivíduos devem se reproduzir (de forma sexuada  ou assexuada), gerando filhos que herdam algumas das características de seu(s) pai(s). No caso de reprodução sexuada, há troca de material genético entre dois ou mais indivíduos pais;\n",
    "- Variação genética: durante o processo reprodutivo, os filhos não apenas herdam características de seu(s) pai(s), como eles também podem sofrer mutações genéticas;\n",
    "- Seleção natural: a avaliação dos indivíduos em seu ambiente – através de uma função de avaliação ou fitness – resulta em um valor correspondente à adaptação (qualidade) ou ao fitness deste indivíduo. A comparação dos valores individuais de fitness resultará em uma competição pela sobrevivência e reprodução no ambiente, havendo uma vantagem seletiva daqueles indivíduos com valores elevados de fitness.\n",
    "- Quando todos os passos acima (reprodução, variação genética e seleção) tiverem sido executados, diz-se que ocorreu uma geração."
   ]
  },
  {
   "cell_type": "markdown",
   "metadata": {},
   "source": [
    "### Etapas algorítmos evolutivos - Otimização"
   ]
  },
  {
   "cell_type": "markdown",
   "metadata": {},
   "source": [
    "Formalização matemática (notação voltada para problemas de otimização):\n",
    "\n",
    "- Representação genotípica: codificação das soluções candidatas (um subconjunto delas comporá a população a cada geração);\n",
    "- Representação fenotípica: interpretação do código.\n",
    "- Espaço de busca: tem como elementos todos os candidatos à solução do problema;\n",
    "- Função de adaptação ou de fitness: atribui a cada elemento do espaço de busca um valor de adaptação, que será usado como medida relativa de desempenho. Representa a pressão do ambiente sobre o fenótipo dos indivíduos.\n",
    "- Operadores de inicialização: produzem a primeira geração de indivíduos (população inicial), tomando elementos do espaço de busca.\n",
    "- Operadores genéticos: implementam o mecanismo de introdução de variabilidade aleatória no genótipo da população.\n",
    "- Operadores de seleção: implementam o mecanismo de “seleção natural”.\n",
    "\n",
    "Como podemos ver, os passos definidos anteriormente são de fato implementados pelos diferentes operadores genéticos, estes operadores de fato alteram os indíviduos e são responsável pela seleção dos indivíduos mais adaptados."
   ]
  },
  {
   "cell_type": "markdown",
   "metadata": {},
   "source": [
    "### Classes de algorítmos evolutivos"
   ]
  },
  {
   "cell_type": "markdown",
   "metadata": {},
   "source": [
    "Nos seguintes tópicos do assunto iremos ver exemplos e entrar detalhes desses operadores montando nossas primeiras versões de algorítmos evolutivos. Na literature há diferentes algorítmos inspirados na teoria Neo-Darwiana onde cada um deles da maior ênfase a um etapa do processo de evolução, normalmente depende de onda essa ênfase esta constuma-se classificar os da aos algorítmos evolutivos diferentes subclasses. Sendos estas:  \n",
    "\n",
    "- Algoritmos Genéticos (AG) – Genetic Algorithms (GA)\n",
    "- Estratégias Evolutivas (EE) – Evolution Strategies (ES)\n",
    "- Programação Evolutiva (PE) – Evolutionary Programming (EP)\n",
    "- Programação Genética (PG) – Genetic Programming (GP)\n",
    "\n",
    "É importante lembrar que a fronteira entre esses classes não algo rígido sendo comum encontrarmos algorítmos e heurísricas que possa combinar diferentes ideias dessas classes."
   ]
  },
  {
   "cell_type": "markdown",
   "metadata": {},
   "source": [
    "### Conclusão"
   ]
  },
  {
   "cell_type": "markdown",
   "metadata": {},
   "source": [
    "Neste tópico discutimos:\n",
    "- As principais idéias usadas nos algorítmos evolutivos\n",
    "- As principais etapas do algorítmo e os termos usados quando aplicados a problemas de otimização\n",
    "- A subdivisão desses algorítmos em diferentes classes"
   ]
  }
 ],
 "metadata": {
  "kernelspec": {
   "display_name": "Python 3",
   "language": "python",
   "name": "python3"
  },
  "language_info": {
   "codemirror_mode": {
    "name": "ipython",
    "version": 3
   },
   "file_extension": ".py",
   "mimetype": "text/x-python",
   "name": "python",
   "nbconvert_exporter": "python",
   "pygments_lexer": "ipython3",
   "version": "3.7.6"
  }
 },
 "nbformat": 4,
 "nbformat_minor": 4
}
