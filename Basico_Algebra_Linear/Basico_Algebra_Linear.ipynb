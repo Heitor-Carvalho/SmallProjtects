{
 "cells": [
  {
   "cell_type": "markdown",
   "metadata": {},
   "source": [
    "### Sumário\n",
    "\n",
    "- Base canonica - $R^2$, base ortonormal\n",
    "- Representação do vetor como combinação linear do vetores base\n",
    "- Bases nao ortonormais\n",
    "- Mudando de base"
   ]
  },
  {
   "cell_type": "code",
   "execution_count": 1,
   "metadata": {},
   "outputs": [],
   "source": [
    "import numpy as np\n",
    "import matplotlib.pyplot as plt"
   ]
  },
  {
   "cell_type": "markdown",
   "metadata": {},
   "source": [
    "### Base canonica - $R^2$"
   ]
  },
  {
   "cell_type": "markdown",
   "metadata": {},
   "source": [
    " Inicialmente vamos criar os vetores para base canonica $e_1$ e $e_2$."
   ]
  },
  {
   "cell_type": "code",
   "execution_count": 2,
   "metadata": {},
   "outputs": [],
   "source": [
    "o = np.array([0, 0]).reshape(-1, 1)\n",
    "e1 = np.array([1, 0]).reshape(-1, 1)\n",
    "e2 = np.array([0, 1]).reshape(-1, 1)"
   ]
  },
  {
   "cell_type": "code",
   "execution_count": 3,
   "metadata": {},
   "outputs": [
    {
     "data": {
      "text/plain": [
       "((2, 1), (2, 1))"
      ]
     },
     "execution_count": 3,
     "metadata": {},
     "output_type": "execute_result"
    }
   ],
   "source": [
    "e1.shape, e2.shape"
   ]
  },
  {
   "cell_type": "markdown",
   "metadata": {},
   "source": [
    "Chamamos essa base de ortonormal pois os vetores tem norma unitária e sao ortogonais, podemos verificar essas propriedades:"
   ]
  },
  {
   "cell_type": "code",
   "execution_count": 4,
   "metadata": {},
   "outputs": [
    {
     "data": {
      "text/plain": [
       "(1.0, 1.0, array([[0]]))"
      ]
     },
     "execution_count": 4,
     "metadata": {},
     "output_type": "execute_result"
    }
   ],
   "source": [
    "np.linalg.norm(e1), np.linalg.norm(e2), np.dot(e1.T, e2)"
   ]
  },
  {
   "cell_type": "code",
   "execution_count": 5,
   "metadata": {},
   "outputs": [
    {
     "data": {
      "image/png": "[encoded data removed]",
      "text/plain": [
       "<Figure size 432x288 with 1 Axes>"
      ]
     },
     "metadata": {
      "needs_background": "light"
     },
     "output_type": "display_data"
    }
   ],
   "source": [
    "plt.quiver([0, 0], [0, 0], np.r_[e1[0], e2[0]], np.r_[e2[0], e2[1]], scale=1, angles='xy', scale_units='xy')\n",
    "plt.ylim([-2, 2])\n",
    "plt.xlim([-2, 2])\n",
    "plt.title(\"Base vectors e1, e2\")\n",
    "plt.grid()"
   ]
  },
  {
   "cell_type": "markdown",
   "metadata": {},
   "source": [
    "###  Representação do vetor como combinação linear do vetores base"
   ]
  },
  {
   "cell_type": "markdown",
   "metadata": {},
   "source": [
    "Agora vamos escolher um vetor representado nessa base, esse vetor eh descrito com uma combinação linear dos vetores base. "
   ]
  },
  {
   "cell_type": "code",
   "execution_count": 6,
   "metadata": {},
   "outputs": [],
   "source": [
    "v = np.array([0.5, 1.5]).reshape(-1, 1)"
   ]
  },
  {
   "cell_type": "code",
   "execution_count": 7,
   "metadata": {},
   "outputs": [
    {
     "data": {
      "text/plain": [
       "array([[ True],\n",
       "       [ True]])"
      ]
     },
     "execution_count": 7,
     "metadata": {},
     "output_type": "execute_result"
    }
   ],
   "source": [
    "v == 0.5*e1 + 1.5*e2"
   ]
  },
  {
   "cell_type": "markdown",
   "metadata": {},
   "source": [
    "Agora projetamos o vetor nos vetores bases decompondo o vetor $v$"
   ]
  },
  {
   "cell_type": "code",
   "execution_count": 8,
   "metadata": {},
   "outputs": [
    {
     "data": {
      "text/plain": [
       "array([[0.5],\n",
       "       [0. ]])"
      ]
     },
     "execution_count": 8,
     "metadata": {},
     "output_type": "execute_result"
    }
   ],
   "source": [
    "e1_coord = np.dot(v.T, e1)*e1\n",
    "e1_coord"
   ]
  },
  {
   "cell_type": "code",
   "execution_count": 9,
   "metadata": {},
   "outputs": [
    {
     "data": {
      "text/plain": [
       "array([[0. ],\n",
       "       [1.5]])"
      ]
     },
     "execution_count": 9,
     "metadata": {},
     "output_type": "execute_result"
    }
   ],
   "source": [
    "e2_coord = np.dot(v.T, e2)*e2\n",
    "e2_coord"
   ]
  },
  {
   "cell_type": "code",
   "execution_count": 10,
   "metadata": {},
   "outputs": [
    {
     "data": {
      "image/png": "[encoded data removed]",
      "text/plain": [
       "<Figure size 432x288 with 1 Axes>"
      ]
     },
     "metadata": {
      "needs_background": "light"
     },
     "output_type": "display_data"
    }
   ],
   "source": [
    "e_coord = np.c_[e1_coord, e2_coord].T\n",
    "plt.quiver([0, 0], [0, 0], e_coord[:, 0], e_coord[:, 1], scale=1, angles='xy', scale_units='xy')\n",
    "plt.quiver([0], [0], v[0], v[1], scale=1, angles='xy', scale_units='xy', color='r')\n",
    "plt.ylim([-2, 2])\n",
    "plt.xlim([-2, 2])\n",
    "plt.title(\"Base vectors e1, e2\")\n",
    "plt.grid()"
   ]
  },
  {
   "cell_type": "markdown",
   "metadata": {},
   "source": [
    "###  Base não ortonormal"
   ]
  },
  {
   "cell_type": "markdown",
   "metadata": {},
   "source": [
    "Vamos agora trabalhar com duas bases $U$ e $W$ para o espaço $R^2$. Os vetores que compoem essas bases serão:\n",
    "\n",
    "$U = {u_1, u_2} = {(2, 3)^T, (4, 5)^T}$\n",
    "\n",
    "$W = {w_1, w_2} = {(-1, 1)^T, (1, 1)^T}$\n",
    "\n",
    "Esses vetores representam a implementação do exemplo encontrado em:\n",
    "\n",
    "https://eli.thegreenplace.net/2015/change-of-basis-in-linear-algebra/"
   ]
  },
  {
   "cell_type": "code",
   "execution_count": 11,
   "metadata": {},
   "outputs": [],
   "source": [
    "u1 = np.array([2, 3]).reshape(-1, 1)\n",
    "u2 = np.array([4, 5]).reshape(-1, 1)\n",
    "w1 = np.array([-1, 1]).reshape(-1, 1)\n",
    "w2 = np.array([1, 1]).reshape(-1, 1)"
   ]
  },
  {
   "cell_type": "markdown",
   "metadata": {},
   "source": [
    "Para garantir que os vetores escolhidos podem ser um base para $R^2$, precisamos verificar que esses vetores nao são colineares. Podemos verificar isso calculando o produto vetorial, dividido pelas normas do vetores e verificar que o resultado eh diferente de 1.\n",
    "\n",
    "Lembrando que $<v_1, v_2> = ||v_1 || ||v_2|| cos(\\theta)$, caso $v_1$ e $v_2$ sejam colinear temos $\\theta = 0$.\n"
   ]
  },
  {
   "cell_type": "code",
   "execution_count": 12,
   "metadata": {},
   "outputs": [
    {
     "data": {
      "text/plain": [
       "array([[15.61290096]])"
      ]
     },
     "execution_count": 12,
     "metadata": {},
     "output_type": "execute_result"
    }
   ],
   "source": [
    "180*np.arccos(np.dot(u1.T, u2)/(np.linalg.norm(u1)*np.linalg.norm(u2)))"
   ]
  },
  {
   "cell_type": "code",
   "execution_count": 13,
   "metadata": {},
   "outputs": [
    {
     "data": {
      "text/plain": [
       "array([[282.74333882]])"
      ]
     },
     "execution_count": 13,
     "metadata": {},
     "output_type": "execute_result"
    }
   ],
   "source": [
    "180*np.arccos(np.dot(w1.T, w2)/(np.linalg.norm(w1)*np.linalg.norm(w2)))"
   ]
  },
  {
   "cell_type": "markdown",
   "metadata": {},
   "source": [
    "Também podemos verificar isso graficamente:"
   ]
  },
  {
   "cell_type": "code",
   "execution_count": 14,
   "metadata": {},
   "outputs": [
    {
     "data": {
      "image/png": "[encoded data removed]",
      "text/plain": [
       "<Figure size 864x432 with 2 Axes>"
      ]
     },
     "metadata": {
      "needs_background": "light"
     },
     "output_type": "display_data"
    }
   ],
   "source": [
    "fig, axs = plt.subplots(1, 2, figsize=(12, 6))\n",
    "\n",
    "w_ar = np.c_[u1, u2].T\n",
    "u_ar = np.c_[w1, w2].T\n",
    "axs[0].quiver([0, 0], [0, 0], u_ar[:, 0], u_ar[:, 1], scale=1, angles='xy', scale_units='xy')\n",
    "axs[0].set_ylim([-2, 6])\n",
    "axs[0].set_xlim([-2, 6])\n",
    "axs[0].set_title(\"Base U\")\n",
    "axs[0].grid()\n",
    "axs[1].quiver([0, 0], [0, 0], w_ar[:, 0], w_ar[:, 1], scale=1, angles='xy', scale_units='xy')\n",
    "axs[1].set_ylim([-2, 6])\n",
    "axs[1].set_xlim([-2, 6])\n",
    "axs[1].set_title(\"Base W\")\n",
    "axs[1].grid()"
   ]
  },
  {
   "cell_type": "markdown",
   "metadata": {},
   "source": [
    "###  Mudando de base"
   ]
  },
  {
   "cell_type": "markdown",
   "metadata": {},
   "source": [
    "Pare encontrarmos a matriz de mudança de base, basta escrevermos os vetores que compoem uma base em função dos que compoem a outra base. Nesse case, vamos escrever os vetores da base $U$ em termos dos vetores da base $W$.\n",
    "\n",
    "Para isso, calculamos a projeção de $u_1, u_2$ em $w_1, w_2$."
   ]
  },
  {
   "cell_type": "code",
   "execution_count": 15,
   "metadata": {},
   "outputs": [
    {
     "data": {
      "text/plain": [
       "array([[0.5]])"
      ]
     },
     "execution_count": 15,
     "metadata": {},
     "output_type": "execute_result"
    }
   ],
   "source": [
    "UW11 = np.dot(u1.T, w1)/np.dot(w1.T, w1)\n",
    "UW11"
   ]
  },
  {
   "cell_type": "code",
   "execution_count": 16,
   "metadata": {},
   "outputs": [
    {
     "data": {
      "text/plain": [
       "array([[2.5]])"
      ]
     },
     "execution_count": 16,
     "metadata": {},
     "output_type": "execute_result"
    }
   ],
   "source": [
    "UW12 = np.dot(u1.T, w2)/np.dot(w2.T, w2)\n",
    "UW12"
   ]
  },
  {
   "cell_type": "code",
   "execution_count": 17,
   "metadata": {},
   "outputs": [
    {
     "data": {
      "text/plain": [
       "array([[ True],\n",
       "       [ True]])"
      ]
     },
     "execution_count": 17,
     "metadata": {},
     "output_type": "execute_result"
    }
   ],
   "source": [
    "u1 == UW11*w1 + UW12*w2"
   ]
  },
  {
   "cell_type": "markdown",
   "metadata": {},
   "source": [
    "$u_1$ como combinação de $w_1$ e $w_2$"
   ]
  },
  {
   "cell_type": "code",
   "execution_count": 18,
   "metadata": {},
   "outputs": [
    {
     "data": {
      "text/plain": [
       "array([[0.5]])"
      ]
     },
     "execution_count": 18,
     "metadata": {},
     "output_type": "execute_result"
    }
   ],
   "source": [
    "UW21 = np.dot(u2.T, w1)/np.dot(w1.T, w1)\n",
    "UW21"
   ]
  },
  {
   "cell_type": "code",
   "execution_count": 19,
   "metadata": {},
   "outputs": [
    {
     "data": {
      "text/plain": [
       "array([[4.5]])"
      ]
     },
     "execution_count": 19,
     "metadata": {},
     "output_type": "execute_result"
    }
   ],
   "source": [
    "UW22 = np.dot(u2.T, w2)/np.dot(w2.T, w2)\n",
    "UW22"
   ]
  },
  {
   "cell_type": "markdown",
   "metadata": {},
   "source": [
    "$u_2$ como combinação de $w_1$ e $w_2$"
   ]
  },
  {
   "cell_type": "code",
   "execution_count": 20,
   "metadata": {},
   "outputs": [
    {
     "data": {
      "text/plain": [
       "array([[ True],\n",
       "       [ True]])"
      ]
     },
     "execution_count": 20,
     "metadata": {},
     "output_type": "execute_result"
    }
   ],
   "source": [
    "u2 == UW21*w1 + UW22*w2"
   ]
  },
  {
   "cell_type": "markdown",
   "metadata": {},
   "source": [
    "Assim a matriz de mudançao de base de $W$ para $U$ é:"
   ]
  },
  {
   "cell_type": "code",
   "execution_count": 21,
   "metadata": {},
   "outputs": [
    {
     "data": {
      "text/plain": [
       "array([[0.5, 0.5],\n",
       "       [2.5, 4.5]])"
      ]
     },
     "execution_count": 21,
     "metadata": {},
     "output_type": "execute_result"
    }
   ],
   "source": [
    "UW = np.array(np.c_[np.r_[UW11, UW12], np.r_[UW21, UW22]])\n",
    "UW"
   ]
  },
  {
   "cell_type": "markdown",
   "metadata": {},
   "source": [
    "E a matriz de mudançao de base de $U$ para $W$ é:"
   ]
  },
  {
   "cell_type": "code",
   "execution_count": 22,
   "metadata": {},
   "outputs": [
    {
     "data": {
      "text/plain": [
       "array([[ 4.5, -0.5],\n",
       "       [-2.5,  0.5]])"
      ]
     },
     "execution_count": 22,
     "metadata": {},
     "output_type": "execute_result"
    }
   ],
   "source": [
    "WU = np.linalg.inv(UW)\n",
    "WU"
   ]
  },
  {
   "cell_type": "markdown",
   "metadata": {},
   "source": [
    "###  Representação em diferentes bases"
   ]
  },
  {
   "cell_type": "markdown",
   "metadata": {},
   "source": [
    "Partindo de um vetor $v$ escrito na base $U$, este será mapeado para a base $W$ multiplicando pela matriz de mudança de base."
   ]
  },
  {
   "cell_type": "code",
   "execution_count": 23,
   "metadata": {},
   "outputs": [],
   "source": [
    "V_u = np.array([1, 3]).reshape(-1, 1)"
   ]
  },
  {
   "cell_type": "code",
   "execution_count": 24,
   "metadata": {},
   "outputs": [
    {
     "data": {
      "text/plain": [
       "array([[1],\n",
       "       [3]])"
      ]
     },
     "execution_count": 24,
     "metadata": {},
     "output_type": "execute_result"
    }
   ],
   "source": [
    "V_u"
   ]
  },
  {
   "cell_type": "markdown",
   "metadata": {},
   "source": [
    "Vetor na base $W$:"
   ]
  },
  {
   "cell_type": "code",
   "execution_count": 25,
   "metadata": {},
   "outputs": [],
   "source": [
    "V_w = np.dot(WU, V_u)"
   ]
  },
  {
   "cell_type": "code",
   "execution_count": 26,
   "metadata": {},
   "outputs": [
    {
     "data": {
      "text/plain": [
       "array([[ 3.],\n",
       "       [-1.]])"
      ]
     },
     "execution_count": 26,
     "metadata": {},
     "output_type": "execute_result"
    }
   ],
   "source": [
    "V_w"
   ]
  },
  {
   "cell_type": "markdown",
   "metadata": {},
   "source": [
    "Voltando para a base $U$."
   ]
  },
  {
   "cell_type": "code",
   "execution_count": 27,
   "metadata": {},
   "outputs": [
    {
     "data": {
      "text/plain": [
       "array([[ True],\n",
       "       [ True]])"
      ]
     },
     "execution_count": 27,
     "metadata": {},
     "output_type": "execute_result"
    }
   ],
   "source": [
    "V_u == np.dot(UW, V_w)"
   ]
  }
 ],
 "metadata": {
  "kernelspec": {
   "display_name": "Python 3",
   "language": "python",
   "name": "python3"
  },
  "language_info": {
   "codemirror_mode": {
    "name": "ipython",
    "version": 3
   },
   "file_extension": ".py",
   "mimetype": "text/x-python",
   "name": "python",
   "nbconvert_exporter": "python",
   "pygments_lexer": "ipython3",
   "version": "3.7.6"
  }
 },
 "nbformat": 4,
 "nbformat_minor": 4
}
